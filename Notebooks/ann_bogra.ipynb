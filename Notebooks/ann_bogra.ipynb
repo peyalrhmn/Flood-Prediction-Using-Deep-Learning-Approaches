{
  "nbformat": 4,
  "nbformat_minor": 0,
  "metadata": {
    "colab": {
      "name": "ann_bogra.ipynb",
      "provenance": [],
      "collapsed_sections": []
    },
    "kernelspec": {
      "name": "python3",
      "display_name": "Python 3"
    },
    "language_info": {
      "name": "python"
    }
  },
  "cells": [
    {
      "cell_type": "code",
      "execution_count": null,
      "metadata": {
        "id": "cPzx4EIg1yz7"
      },
      "outputs": [],
      "source": [
        "import tensorflow as tf\n",
        "import tensorflow.compat.v1 as tf1\n",
        "tf1.disable_v2_behavior()\n",
        "import pandas as pd\n",
        "import numpy as np\n",
        "import matplotlib.pyplot as plt\n",
        "import seaborn as sns\n",
        "from sklearn.model_selection import train_test_split\n",
        "from sklearn.preprocessing import MinMaxScaler, Normalizer\n",
        "from sklearn.decomposition import PCA as sklearnPCA\n",
        "import io\n",
        "\n",
        "# Supress unnecessary warnings so that presentation looks clean\n",
        "import warnings\n",
        "warnings.filterwarnings(\"ignore\")"
      ]
    },
    {
      "cell_type": "code",
      "source": [
        "from google.colab import files\n",
        "uploaded = files.upload()"
      ],
      "metadata": {
        "colab": {
          "resources": {
            "http://localhost:8080/nbextensions/google.colab/files.js": {
              "data": "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",
              "ok": true,
              "headers": [
                [
                  "content-type",
                  "application/javascript"
                ]
              ],
              "status": 200,
              "status_text": ""
            }
          },
          "base_uri": "https://localhost:8080/",
          "height": 73
        },
        "id": "0O_g25UY2bbB",
        "outputId": "338ea842-2d6e-42bd-a2f9-0419e671c114"
      },
      "execution_count": 2,
      "outputs": [
        {
          "output_type": "display_data",
          "data": {
            "text/plain": [
              "<IPython.core.display.HTML object>"
            ],
            "text/html": [
              "\n",
              "     <input type=\"file\" id=\"files-60c4d2a7-a55d-403a-92bf-9034cfa25f29\" name=\"files[]\" multiple disabled\n",
              "        style=\"border:none\" />\n",
              "     <output id=\"result-60c4d2a7-a55d-403a-92bf-9034cfa25f29\">\n",
              "      Upload widget is only available when the cell has been executed in the\n",
              "      current browser session. Please rerun this cell to enable.\n",
              "      </output>\n",
              "      <script src=\"/nbextensions/google.colab/files.js\"></script> "
            ]
          },
          "metadata": {}
        },
        {
          "output_type": "stream",
          "name": "stdout",
          "text": [
            "Saving BograFlood.csv to BograFlood.csv\n"
          ]
        }
      ]
    },
    {
      "cell_type": "code",
      "source": [
        "df = pd.read_csv(io.BytesIO(uploaded['BograFlood.csv']))"
      ],
      "metadata": {
        "id": "4tWppM2j2uxa"
      },
      "execution_count": 3,
      "outputs": []
    },
    {
      "cell_type": "code",
      "source": [
        "df.head(5)"
      ],
      "metadata": {
        "colab": {
          "base_uri": "https://localhost:8080/",
          "height": 206
        },
        "id": "uQAV3ASi2583",
        "outputId": "e34921f0-9e90-44bc-f4de-04ebead12b41"
      },
      "execution_count": 4,
      "outputs": [
        {
          "output_type": "execute_result",
          "data": {
            "text/plain": [
              "     Sl Station_Names  Year  Month  Max_Temp  Min_Temp    Rainfall  \\\n",
              "0  1356         Bogra  1948      1      25.8      11.7    8.140625   \n",
              "1  1357         Bogra  1948      2      33.3      13.3   11.140625   \n",
              "2  1358         Bogra  1948      3      38.3      17.4   25.312500   \n",
              "3  1359         Bogra  1948      4      39.5      22.7   69.140625   \n",
              "4  1360         Bogra  1948      5      36.1      23.1  179.890625   \n",
              "\n",
              "   Relative_Humidity  Wind_Speed  Cloud_Coverage  Bright_Sunshine  \\\n",
              "0          74.218750    0.875926             1.1         7.296226   \n",
              "1          66.531250    1.022222             1.9         8.267925   \n",
              "2          61.812500    1.340741             2.1         8.573585   \n",
              "3          66.203125    1.740741             3.7         8.009434   \n",
              "4          76.859375    1.781481             4.3         7.303774   \n",
              "\n",
              "   Station_Number     X_COR     Y_COR  LATITUDE  LONGITUDE  ALT   Period  \\\n",
              "0           41883  435303.7  751187.5     24.88      89.36   20  1948.01   \n",
              "1           41883  435303.7  751187.5     24.88      89.36   20  1948.02   \n",
              "2           41883  435303.7  751187.5     24.88      89.36   20  1948.03   \n",
              "3           41883  435303.7  751187.5     24.88      89.36   20  1948.04   \n",
              "4           41883  435303.7  751187.5     24.88      89.36   20  1948.05   \n",
              "\n",
              "   Flood?  \n",
              "0     NaN  \n",
              "1     NaN  \n",
              "2     NaN  \n",
              "3     NaN  \n",
              "4     NaN  "
            ],
            "text/html": [
              "\n",
              "  <div id=\"df-fb024c63-cf26-4545-b8e5-d4dd786e3b86\">\n",
              "    <div class=\"colab-df-container\">\n",
              "      <div>\n",
              "<style scoped>\n",
              "    .dataframe tbody tr th:only-of-type {\n",
              "        vertical-align: middle;\n",
              "    }\n",
              "\n",
              "    .dataframe tbody tr th {\n",
              "        vertical-align: top;\n",
              "    }\n",
              "\n",
              "    .dataframe thead th {\n",
              "        text-align: right;\n",
              "    }\n",
              "</style>\n",
              "<table border=\"1\" class=\"dataframe\">\n",
              "  <thead>\n",
              "    <tr style=\"text-align: right;\">\n",
              "      <th></th>\n",
              "      <th>Sl</th>\n",
              "      <th>Station_Names</th>\n",
              "      <th>Year</th>\n",
              "      <th>Month</th>\n",
              "      <th>Max_Temp</th>\n",
              "      <th>Min_Temp</th>\n",
              "      <th>Rainfall</th>\n",
              "      <th>Relative_Humidity</th>\n",
              "      <th>Wind_Speed</th>\n",
              "      <th>Cloud_Coverage</th>\n",
              "      <th>Bright_Sunshine</th>\n",
              "      <th>Station_Number</th>\n",
              "      <th>X_COR</th>\n",
              "      <th>Y_COR</th>\n",
              "      <th>LATITUDE</th>\n",
              "      <th>LONGITUDE</th>\n",
              "      <th>ALT</th>\n",
              "      <th>Period</th>\n",
              "      <th>Flood?</th>\n",
              "    </tr>\n",
              "  </thead>\n",
              "  <tbody>\n",
              "    <tr>\n",
              "      <th>0</th>\n",
              "      <td>1356</td>\n",
              "      <td>Bogra</td>\n",
              "      <td>1948</td>\n",
              "      <td>1</td>\n",
              "      <td>25.8</td>\n",
              "      <td>11.7</td>\n",
              "      <td>8.140625</td>\n",
              "      <td>74.218750</td>\n",
              "      <td>0.875926</td>\n",
              "      <td>1.1</td>\n",
              "      <td>7.296226</td>\n",
              "      <td>41883</td>\n",
              "      <td>435303.7</td>\n",
              "      <td>751187.5</td>\n",
              "      <td>24.88</td>\n",
              "      <td>89.36</td>\n",
              "      <td>20</td>\n",
              "      <td>1948.01</td>\n",
              "      <td>NaN</td>\n",
              "    </tr>\n",
              "    <tr>\n",
              "      <th>1</th>\n",
              "      <td>1357</td>\n",
              "      <td>Bogra</td>\n",
              "      <td>1948</td>\n",
              "      <td>2</td>\n",
              "      <td>33.3</td>\n",
              "      <td>13.3</td>\n",
              "      <td>11.140625</td>\n",
              "      <td>66.531250</td>\n",
              "      <td>1.022222</td>\n",
              "      <td>1.9</td>\n",
              "      <td>8.267925</td>\n",
              "      <td>41883</td>\n",
              "      <td>435303.7</td>\n",
              "      <td>751187.5</td>\n",
              "      <td>24.88</td>\n",
              "      <td>89.36</td>\n",
              "      <td>20</td>\n",
              "      <td>1948.02</td>\n",
              "      <td>NaN</td>\n",
              "    </tr>\n",
              "    <tr>\n",
              "      <th>2</th>\n",
              "      <td>1358</td>\n",
              "      <td>Bogra</td>\n",
              "      <td>1948</td>\n",
              "      <td>3</td>\n",
              "      <td>38.3</td>\n",
              "      <td>17.4</td>\n",
              "      <td>25.312500</td>\n",
              "      <td>61.812500</td>\n",
              "      <td>1.340741</td>\n",
              "      <td>2.1</td>\n",
              "      <td>8.573585</td>\n",
              "      <td>41883</td>\n",
              "      <td>435303.7</td>\n",
              "      <td>751187.5</td>\n",
              "      <td>24.88</td>\n",
              "      <td>89.36</td>\n",
              "      <td>20</td>\n",
              "      <td>1948.03</td>\n",
              "      <td>NaN</td>\n",
              "    </tr>\n",
              "    <tr>\n",
              "      <th>3</th>\n",
              "      <td>1359</td>\n",
              "      <td>Bogra</td>\n",
              "      <td>1948</td>\n",
              "      <td>4</td>\n",
              "      <td>39.5</td>\n",
              "      <td>22.7</td>\n",
              "      <td>69.140625</td>\n",
              "      <td>66.203125</td>\n",
              "      <td>1.740741</td>\n",
              "      <td>3.7</td>\n",
              "      <td>8.009434</td>\n",
              "      <td>41883</td>\n",
              "      <td>435303.7</td>\n",
              "      <td>751187.5</td>\n",
              "      <td>24.88</td>\n",
              "      <td>89.36</td>\n",
              "      <td>20</td>\n",
              "      <td>1948.04</td>\n",
              "      <td>NaN</td>\n",
              "    </tr>\n",
              "    <tr>\n",
              "      <th>4</th>\n",
              "      <td>1360</td>\n",
              "      <td>Bogra</td>\n",
              "      <td>1948</td>\n",
              "      <td>5</td>\n",
              "      <td>36.1</td>\n",
              "      <td>23.1</td>\n",
              "      <td>179.890625</td>\n",
              "      <td>76.859375</td>\n",
              "      <td>1.781481</td>\n",
              "      <td>4.3</td>\n",
              "      <td>7.303774</td>\n",
              "      <td>41883</td>\n",
              "      <td>435303.7</td>\n",
              "      <td>751187.5</td>\n",
              "      <td>24.88</td>\n",
              "      <td>89.36</td>\n",
              "      <td>20</td>\n",
              "      <td>1948.05</td>\n",
              "      <td>NaN</td>\n",
              "    </tr>\n",
              "  </tbody>\n",
              "</table>\n",
              "</div>\n",
              "      <button class=\"colab-df-convert\" onclick=\"convertToInteractive('df-fb024c63-cf26-4545-b8e5-d4dd786e3b86')\"\n",
              "              title=\"Convert this dataframe to an interactive table.\"\n",
              "              style=\"display:none;\">\n",
              "        \n",
              "  <svg xmlns=\"http://www.w3.org/2000/svg\" height=\"24px\"viewBox=\"0 0 24 24\"\n",
              "       width=\"24px\">\n",
              "    <path d=\"M0 0h24v24H0V0z\" fill=\"none\"/>\n",
              "    <path d=\"M18.56 5.44l.94 2.06.94-2.06 2.06-.94-2.06-.94-.94-2.06-.94 2.06-2.06.94zm-11 1L8.5 8.5l.94-2.06 2.06-.94-2.06-.94L8.5 2.5l-.94 2.06-2.06.94zm10 10l.94 2.06.94-2.06 2.06-.94-2.06-.94-.94-2.06-.94 2.06-2.06.94z\"/><path d=\"M17.41 7.96l-1.37-1.37c-.4-.4-.92-.59-1.43-.59-.52 0-1.04.2-1.43.59L10.3 9.45l-7.72 7.72c-.78.78-.78 2.05 0 2.83L4 21.41c.39.39.9.59 1.41.59.51 0 1.02-.2 1.41-.59l7.78-7.78 2.81-2.81c.8-.78.8-2.07 0-2.86zM5.41 20L4 18.59l7.72-7.72 1.47 1.35L5.41 20z\"/>\n",
              "  </svg>\n",
              "      </button>\n",
              "      \n",
              "  <style>\n",
              "    .colab-df-container {\n",
              "      display:flex;\n",
              "      flex-wrap:wrap;\n",
              "      gap: 12px;\n",
              "    }\n",
              "\n",
              "    .colab-df-convert {\n",
              "      background-color: #E8F0FE;\n",
              "      border: none;\n",
              "      border-radius: 50%;\n",
              "      cursor: pointer;\n",
              "      display: none;\n",
              "      fill: #1967D2;\n",
              "      height: 32px;\n",
              "      padding: 0 0 0 0;\n",
              "      width: 32px;\n",
              "    }\n",
              "\n",
              "    .colab-df-convert:hover {\n",
              "      background-color: #E2EBFA;\n",
              "      box-shadow: 0px 1px 2px rgba(60, 64, 67, 0.3), 0px 1px 3px 1px rgba(60, 64, 67, 0.15);\n",
              "      fill: #174EA6;\n",
              "    }\n",
              "\n",
              "    [theme=dark] .colab-df-convert {\n",
              "      background-color: #3B4455;\n",
              "      fill: #D2E3FC;\n",
              "    }\n",
              "\n",
              "    [theme=dark] .colab-df-convert:hover {\n",
              "      background-color: #434B5C;\n",
              "      box-shadow: 0px 1px 3px 1px rgba(0, 0, 0, 0.15);\n",
              "      filter: drop-shadow(0px 1px 2px rgba(0, 0, 0, 0.3));\n",
              "      fill: #FFFFFF;\n",
              "    }\n",
              "  </style>\n",
              "\n",
              "      <script>\n",
              "        const buttonEl =\n",
              "          document.querySelector('#df-fb024c63-cf26-4545-b8e5-d4dd786e3b86 button.colab-df-convert');\n",
              "        buttonEl.style.display =\n",
              "          google.colab.kernel.accessAllowed ? 'block' : 'none';\n",
              "\n",
              "        async function convertToInteractive(key) {\n",
              "          const element = document.querySelector('#df-fb024c63-cf26-4545-b8e5-d4dd786e3b86');\n",
              "          const dataTable =\n",
              "            await google.colab.kernel.invokeFunction('convertToInteractive',\n",
              "                                                     [key], {});\n",
              "          if (!dataTable) return;\n",
              "\n",
              "          const docLinkHtml = 'Like what you see? Visit the ' +\n",
              "            '<a target=\"_blank\" href=https://colab.research.google.com/notebooks/data_table.ipynb>data table notebook</a>'\n",
              "            + ' to learn more about interactive tables.';\n",
              "          element.innerHTML = '';\n",
              "          dataTable['output_type'] = 'display_data';\n",
              "          await google.colab.output.renderOutput(dataTable, element);\n",
              "          const docLink = document.createElement('div');\n",
              "          docLink.innerHTML = docLinkHtml;\n",
              "          element.appendChild(docLink);\n",
              "        }\n",
              "      </script>\n",
              "    </div>\n",
              "  </div>\n",
              "  "
            ]
          },
          "metadata": {},
          "execution_count": 4
        }
      ]
    },
    {
      "cell_type": "code",
      "source": [
        "df.drop(columns='Station_Names',inplace=True)\n",
        "df.drop(columns='Station_Number',inplace=True)\n",
        "df.drop(columns='X_COR',inplace=True)\n",
        "df.drop(columns='Y_COR',inplace=True)\n",
        "df.drop(columns='LATITUDE',inplace=True)\n",
        "df.drop(columns='LONGITUDE',inplace=True)\n",
        "df.drop(columns='ALT',inplace=True)\n",
        "df['Flood?'] = df['Flood?'].fillna(0)"
      ],
      "metadata": {
        "id": "vXnVz1K529wA"
      },
      "execution_count": 5,
      "outputs": []
    },
    {
      "cell_type": "code",
      "source": [
        "df.head(5)"
      ],
      "metadata": {
        "colab": {
          "base_uri": "https://localhost:8080/",
          "height": 206
        },
        "id": "3IZ6WnQP3P0x",
        "outputId": "497beb78-e913-4c79-b363-99acce582e51"
      },
      "execution_count": 6,
      "outputs": [
        {
          "output_type": "execute_result",
          "data": {
            "text/plain": [
              "     Sl  Year  Month  Max_Temp  Min_Temp    Rainfall  Relative_Humidity  \\\n",
              "0  1356  1948      1      25.8      11.7    8.140625          74.218750   \n",
              "1  1357  1948      2      33.3      13.3   11.140625          66.531250   \n",
              "2  1358  1948      3      38.3      17.4   25.312500          61.812500   \n",
              "3  1359  1948      4      39.5      22.7   69.140625          66.203125   \n",
              "4  1360  1948      5      36.1      23.1  179.890625          76.859375   \n",
              "\n",
              "   Wind_Speed  Cloud_Coverage  Bright_Sunshine   Period  Flood?  \n",
              "0    0.875926             1.1         7.296226  1948.01     0.0  \n",
              "1    1.022222             1.9         8.267925  1948.02     0.0  \n",
              "2    1.340741             2.1         8.573585  1948.03     0.0  \n",
              "3    1.740741             3.7         8.009434  1948.04     0.0  \n",
              "4    1.781481             4.3         7.303774  1948.05     0.0  "
            ],
            "text/html": [
              "\n",
              "  <div id=\"df-7a7aebb6-d5f1-4024-9f32-857ad50494af\">\n",
              "    <div class=\"colab-df-container\">\n",
              "      <div>\n",
              "<style scoped>\n",
              "    .dataframe tbody tr th:only-of-type {\n",
              "        vertical-align: middle;\n",
              "    }\n",
              "\n",
              "    .dataframe tbody tr th {\n",
              "        vertical-align: top;\n",
              "    }\n",
              "\n",
              "    .dataframe thead th {\n",
              "        text-align: right;\n",
              "    }\n",
              "</style>\n",
              "<table border=\"1\" class=\"dataframe\">\n",
              "  <thead>\n",
              "    <tr style=\"text-align: right;\">\n",
              "      <th></th>\n",
              "      <th>Sl</th>\n",
              "      <th>Year</th>\n",
              "      <th>Month</th>\n",
              "      <th>Max_Temp</th>\n",
              "      <th>Min_Temp</th>\n",
              "      <th>Rainfall</th>\n",
              "      <th>Relative_Humidity</th>\n",
              "      <th>Wind_Speed</th>\n",
              "      <th>Cloud_Coverage</th>\n",
              "      <th>Bright_Sunshine</th>\n",
              "      <th>Period</th>\n",
              "      <th>Flood?</th>\n",
              "    </tr>\n",
              "  </thead>\n",
              "  <tbody>\n",
              "    <tr>\n",
              "      <th>0</th>\n",
              "      <td>1356</td>\n",
              "      <td>1948</td>\n",
              "      <td>1</td>\n",
              "      <td>25.8</td>\n",
              "      <td>11.7</td>\n",
              "      <td>8.140625</td>\n",
              "      <td>74.218750</td>\n",
              "      <td>0.875926</td>\n",
              "      <td>1.1</td>\n",
              "      <td>7.296226</td>\n",
              "      <td>1948.01</td>\n",
              "      <td>0.0</td>\n",
              "    </tr>\n",
              "    <tr>\n",
              "      <th>1</th>\n",
              "      <td>1357</td>\n",
              "      <td>1948</td>\n",
              "      <td>2</td>\n",
              "      <td>33.3</td>\n",
              "      <td>13.3</td>\n",
              "      <td>11.140625</td>\n",
              "      <td>66.531250</td>\n",
              "      <td>1.022222</td>\n",
              "      <td>1.9</td>\n",
              "      <td>8.267925</td>\n",
              "      <td>1948.02</td>\n",
              "      <td>0.0</td>\n",
              "    </tr>\n",
              "    <tr>\n",
              "      <th>2</th>\n",
              "      <td>1358</td>\n",
              "      <td>1948</td>\n",
              "      <td>3</td>\n",
              "      <td>38.3</td>\n",
              "      <td>17.4</td>\n",
              "      <td>25.312500</td>\n",
              "      <td>61.812500</td>\n",
              "      <td>1.340741</td>\n",
              "      <td>2.1</td>\n",
              "      <td>8.573585</td>\n",
              "      <td>1948.03</td>\n",
              "      <td>0.0</td>\n",
              "    </tr>\n",
              "    <tr>\n",
              "      <th>3</th>\n",
              "      <td>1359</td>\n",
              "      <td>1948</td>\n",
              "      <td>4</td>\n",
              "      <td>39.5</td>\n",
              "      <td>22.7</td>\n",
              "      <td>69.140625</td>\n",
              "      <td>66.203125</td>\n",
              "      <td>1.740741</td>\n",
              "      <td>3.7</td>\n",
              "      <td>8.009434</td>\n",
              "      <td>1948.04</td>\n",
              "      <td>0.0</td>\n",
              "    </tr>\n",
              "    <tr>\n",
              "      <th>4</th>\n",
              "      <td>1360</td>\n",
              "      <td>1948</td>\n",
              "      <td>5</td>\n",
              "      <td>36.1</td>\n",
              "      <td>23.1</td>\n",
              "      <td>179.890625</td>\n",
              "      <td>76.859375</td>\n",
              "      <td>1.781481</td>\n",
              "      <td>4.3</td>\n",
              "      <td>7.303774</td>\n",
              "      <td>1948.05</td>\n",
              "      <td>0.0</td>\n",
              "    </tr>\n",
              "  </tbody>\n",
              "</table>\n",
              "</div>\n",
              "      <button class=\"colab-df-convert\" onclick=\"convertToInteractive('df-7a7aebb6-d5f1-4024-9f32-857ad50494af')\"\n",
              "              title=\"Convert this dataframe to an interactive table.\"\n",
              "              style=\"display:none;\">\n",
              "        \n",
              "  <svg xmlns=\"http://www.w3.org/2000/svg\" height=\"24px\"viewBox=\"0 0 24 24\"\n",
              "       width=\"24px\">\n",
              "    <path d=\"M0 0h24v24H0V0z\" fill=\"none\"/>\n",
              "    <path d=\"M18.56 5.44l.94 2.06.94-2.06 2.06-.94-2.06-.94-.94-2.06-.94 2.06-2.06.94zm-11 1L8.5 8.5l.94-2.06 2.06-.94-2.06-.94L8.5 2.5l-.94 2.06-2.06.94zm10 10l.94 2.06.94-2.06 2.06-.94-2.06-.94-.94-2.06-.94 2.06-2.06.94z\"/><path d=\"M17.41 7.96l-1.37-1.37c-.4-.4-.92-.59-1.43-.59-.52 0-1.04.2-1.43.59L10.3 9.45l-7.72 7.72c-.78.78-.78 2.05 0 2.83L4 21.41c.39.39.9.59 1.41.59.51 0 1.02-.2 1.41-.59l7.78-7.78 2.81-2.81c.8-.78.8-2.07 0-2.86zM5.41 20L4 18.59l7.72-7.72 1.47 1.35L5.41 20z\"/>\n",
              "  </svg>\n",
              "      </button>\n",
              "      \n",
              "  <style>\n",
              "    .colab-df-container {\n",
              "      display:flex;\n",
              "      flex-wrap:wrap;\n",
              "      gap: 12px;\n",
              "    }\n",
              "\n",
              "    .colab-df-convert {\n",
              "      background-color: #E8F0FE;\n",
              "      border: none;\n",
              "      border-radius: 50%;\n",
              "      cursor: pointer;\n",
              "      display: none;\n",
              "      fill: #1967D2;\n",
              "      height: 32px;\n",
              "      padding: 0 0 0 0;\n",
              "      width: 32px;\n",
              "    }\n",
              "\n",
              "    .colab-df-convert:hover {\n",
              "      background-color: #E2EBFA;\n",
              "      box-shadow: 0px 1px 2px rgba(60, 64, 67, 0.3), 0px 1px 3px 1px rgba(60, 64, 67, 0.15);\n",
              "      fill: #174EA6;\n",
              "    }\n",
              "\n",
              "    [theme=dark] .colab-df-convert {\n",
              "      background-color: #3B4455;\n",
              "      fill: #D2E3FC;\n",
              "    }\n",
              "\n",
              "    [theme=dark] .colab-df-convert:hover {\n",
              "      background-color: #434B5C;\n",
              "      box-shadow: 0px 1px 3px 1px rgba(0, 0, 0, 0.15);\n",
              "      filter: drop-shadow(0px 1px 2px rgba(0, 0, 0, 0.3));\n",
              "      fill: #FFFFFF;\n",
              "    }\n",
              "  </style>\n",
              "\n",
              "      <script>\n",
              "        const buttonEl =\n",
              "          document.querySelector('#df-7a7aebb6-d5f1-4024-9f32-857ad50494af button.colab-df-convert');\n",
              "        buttonEl.style.display =\n",
              "          google.colab.kernel.accessAllowed ? 'block' : 'none';\n",
              "\n",
              "        async function convertToInteractive(key) {\n",
              "          const element = document.querySelector('#df-7a7aebb6-d5f1-4024-9f32-857ad50494af');\n",
              "          const dataTable =\n",
              "            await google.colab.kernel.invokeFunction('convertToInteractive',\n",
              "                                                     [key], {});\n",
              "          if (!dataTable) return;\n",
              "\n",
              "          const docLinkHtml = 'Like what you see? Visit the ' +\n",
              "            '<a target=\"_blank\" href=https://colab.research.google.com/notebooks/data_table.ipynb>data table notebook</a>'\n",
              "            + ' to learn more about interactive tables.';\n",
              "          element.innerHTML = '';\n",
              "          dataTable['output_type'] = 'display_data';\n",
              "          await google.colab.output.renderOutput(dataTable, element);\n",
              "          const docLink = document.createElement('div');\n",
              "          docLink.innerHTML = docLinkHtml;\n",
              "          element.appendChild(docLink);\n",
              "        }\n",
              "      </script>\n",
              "    </div>\n",
              "  </div>\n",
              "  "
            ]
          },
          "metadata": {},
          "execution_count": 6
        }
      ]
    },
    {
      "cell_type": "code",
      "source": [
        "df.shape"
      ],
      "metadata": {
        "colab": {
          "base_uri": "https://localhost:8080/"
        },
        "id": "d8q46rHn3hzF",
        "outputId": "2a22c692-39b6-4a6f-c30a-8f92b5cab358"
      },
      "execution_count": 7,
      "outputs": [
        {
          "output_type": "execute_result",
          "data": {
            "text/plain": [
              "(792, 12)"
            ]
          },
          "metadata": {},
          "execution_count": 7
        }
      ]
    },
    {
      "cell_type": "code",
      "source": [
        "sns.countplot(df['Flood?'],label=\"Count\")"
      ],
      "metadata": {
        "colab": {
          "base_uri": "https://localhost:8080/",
          "height": 296
        },
        "id": "CXWyWaH63dfH",
        "outputId": "af46d5f0-0768-4a7d-9dcc-82ffbfb7dea6"
      },
      "execution_count": 8,
      "outputs": [
        {
          "output_type": "execute_result",
          "data": {
            "text/plain": [
              "<matplotlib.axes._subplots.AxesSubplot at 0x7fae21e74f10>"
            ]
          },
          "metadata": {},
          "execution_count": 8
        },
        {
          "output_type": "display_data",
          "data": {
            "text/plain": [
              "<Figure size 432x288 with 1 Axes>"
            ],
            "image/png": "[encoded data removed]"
          },
          "metadata": {
            "needs_background": "light"
          }
        }
      ]
    },
    {
      "cell_type": "code",
      "source": [
        "corr = df.iloc[:,1:].corr()\n",
        "colormap = sns.diverging_palette(220, 10, as_cmap = True)\n",
        "plt.figure(figsize=(14,14))\n",
        "sns.heatmap(corr, cbar = True,  square = True, annot=True, fmt= '.2f',annot_kws={'size': 8},\n",
        "            cmap = colormap, linewidths=0.1, linecolor='white')\n",
        "plt.title('Correlation', y=1.05, size=15)"
      ],
      "metadata": {
        "colab": {
          "base_uri": "https://localhost:8080/",
          "height": 843
        },
        "id": "G0tipXCz_LXD",
        "outputId": "19250a18-eae1-48c6-9a96-7ff83d74e3f2"
      },
      "execution_count": 9,
      "outputs": [
        {
          "output_type": "execute_result",
          "data": {
            "text/plain": [
              "Text(0.5, 1.05, 'Correlation')"
            ]
          },
          "metadata": {},
          "execution_count": 9
        },
        {
          "output_type": "display_data",
          "data": {
            "text/plain": [
              "<Figure size 1008x1008 with 2 Axes>"
            ],
            "image/png": "[encoded data removed]"
          },
          "metadata": {
            "needs_background": "light"
          }
        }
      ]
    },
    {
      "cell_type": "code",
      "source": [
        "train,test = train_test_split(df, test_size=0.3, random_state=42)\n",
        "print(\"Training Data :\",train.shape)\n",
        "print(\"Testing Data :\",test.shape)"
      ],
      "metadata": {
        "colab": {
          "base_uri": "https://localhost:8080/"
        },
        "id": "WjC62vQEAVPe",
        "outputId": "3ab8c920-56e3-43a6-acdc-cae2f4afc86b"
      },
      "execution_count": 10,
      "outputs": [
        {
          "output_type": "stream",
          "name": "stdout",
          "text": [
            "Training Data : (554, 12)\n",
            "Testing Data : (238, 12)\n"
          ]
        }
      ]
    },
    {
      "cell_type": "code",
      "source": [
        "train_id = train['Sl']\n",
        "test_id = test['Sl']\n",
        "\n",
        "train_data = train.iloc[:,1:]\n",
        "test_data = test.iloc[:,1:]\n",
        "\n",
        "print(\"Training Data :\",train_data.shape)\n",
        "print(\"Testing Data :\",test_data.shape)"
      ],
      "metadata": {
        "colab": {
          "base_uri": "https://localhost:8080/"
        },
        "id": "4eJr7bCKCMCF",
        "outputId": "c6277360-bb21-4e27-b0cc-e2113ab87a70"
      },
      "execution_count": 11,
      "outputs": [
        {
          "output_type": "stream",
          "name": "stdout",
          "text": [
            "Training Data : (554, 11)\n",
            "Testing Data : (238, 11)\n"
          ]
        }
      ]
    },
    {
      "cell_type": "code",
      "source": [
        "# Training Data\n",
        "train_x = train_data.iloc[: , :-1]\n",
        "train_x = MinMaxScaler().fit_transform(train_x)\n",
        "print(\"Training Data :\", train_x.shape)\n",
        "\n",
        "# Testing Data\n",
        "test_x = test_data.iloc[: , :-1]\n",
        "test_x = MinMaxScaler().fit_transform(test_x)\n",
        "print(\"Testing Data :\", test_x.shape)"
      ],
      "metadata": {
        "colab": {
          "base_uri": "https://localhost:8080/"
        },
        "id": "QdKTFyUXBcEv",
        "outputId": "777d4d6f-7762-4db5-a305-81717ac1b28e"
      },
      "execution_count": 12,
      "outputs": [
        {
          "output_type": "stream",
          "name": "stdout",
          "text": [
            "Training Data : (554, 10)\n",
            "Testing Data : (238, 10)\n"
          ]
        }
      ]
    },
    {
      "cell_type": "code",
      "source": [
        "train_data.head(5)"
      ],
      "metadata": {
        "colab": {
          "base_uri": "https://localhost:8080/",
          "height": 206
        },
        "id": "K0VSQ7xmFxGB",
        "outputId": "17e2688d-95dc-4689-8f86-634f7d58f08c"
      },
      "execution_count": 13,
      "outputs": [
        {
          "output_type": "execute_result",
          "data": {
            "text/plain": [
              "     Year  Month  Max_Temp  Min_Temp  Rainfall  Relative_Humidity  Wind_Speed  \\\n",
              "536  1992      9      35.6      25.3     424.0               85.0    1.500000   \n",
              "56   1952      9      35.4      25.9     376.0               84.0    1.205556   \n",
              "299  1972     12      30.6      12.8       0.0               72.0    0.400000   \n",
              "275  1970     12      30.6      12.4       0.0               76.0    0.300000   \n",
              "576  1996      1      27.7      12.2       3.0               77.0    0.600000   \n",
              "\n",
              "     Cloud_Coverage  Bright_Sunshine   Period  Flood?  \n",
              "536             4.2          6.50000  1992.09     1.0  \n",
              "56              6.2          5.44717  1952.09     1.0  \n",
              "299             0.6          9.60000  1972.12     0.0  \n",
              "275             0.1         10.10000  1970.12     0.0  \n",
              "576             1.3          7.10000  1996.01     0.0  "
            ],
            "text/html": [
              "\n",
              "  <div id=\"df-f12fbea9-fdcc-4b43-9112-2674243aa97d\">\n",
              "    <div class=\"colab-df-container\">\n",
              "      <div>\n",
              "<style scoped>\n",
              "    .dataframe tbody tr th:only-of-type {\n",
              "        vertical-align: middle;\n",
              "    }\n",
              "\n",
              "    .dataframe tbody tr th {\n",
              "        vertical-align: top;\n",
              "    }\n",
              "\n",
              "    .dataframe thead th {\n",
              "        text-align: right;\n",
              "    }\n",
              "</style>\n",
              "<table border=\"1\" class=\"dataframe\">\n",
              "  <thead>\n",
              "    <tr style=\"text-align: right;\">\n",
              "      <th></th>\n",
              "      <th>Year</th>\n",
              "      <th>Month</th>\n",
              "      <th>Max_Temp</th>\n",
              "      <th>Min_Temp</th>\n",
              "      <th>Rainfall</th>\n",
              "      <th>Relative_Humidity</th>\n",
              "      <th>Wind_Speed</th>\n",
              "      <th>Cloud_Coverage</th>\n",
              "      <th>Bright_Sunshine</th>\n",
              "      <th>Period</th>\n",
              "      <th>Flood?</th>\n",
              "    </tr>\n",
              "  </thead>\n",
              "  <tbody>\n",
              "    <tr>\n",
              "      <th>536</th>\n",
              "      <td>1992</td>\n",
              "      <td>9</td>\n",
              "      <td>35.6</td>\n",
              "      <td>25.3</td>\n",
              "      <td>424.0</td>\n",
              "      <td>85.0</td>\n",
              "      <td>1.500000</td>\n",
              "      <td>4.2</td>\n",
              "      <td>6.50000</td>\n",
              "      <td>1992.09</td>\n",
              "      <td>1.0</td>\n",
              "    </tr>\n",
              "    <tr>\n",
              "      <th>56</th>\n",
              "      <td>1952</td>\n",
              "      <td>9</td>\n",
              "      <td>35.4</td>\n",
              "      <td>25.9</td>\n",
              "      <td>376.0</td>\n",
              "      <td>84.0</td>\n",
              "      <td>1.205556</td>\n",
              "      <td>6.2</td>\n",
              "      <td>5.44717</td>\n",
              "      <td>1952.09</td>\n",
              "      <td>1.0</td>\n",
              "    </tr>\n",
              "    <tr>\n",
              "      <th>299</th>\n",
              "      <td>1972</td>\n",
              "      <td>12</td>\n",
              "      <td>30.6</td>\n",
              "      <td>12.8</td>\n",
              "      <td>0.0</td>\n",
              "      <td>72.0</td>\n",
              "      <td>0.400000</td>\n",
              "      <td>0.6</td>\n",
              "      <td>9.60000</td>\n",
              "      <td>1972.12</td>\n",
              "      <td>0.0</td>\n",
              "    </tr>\n",
              "    <tr>\n",
              "      <th>275</th>\n",
              "      <td>1970</td>\n",
              "      <td>12</td>\n",
              "      <td>30.6</td>\n",
              "      <td>12.4</td>\n",
              "      <td>0.0</td>\n",
              "      <td>76.0</td>\n",
              "      <td>0.300000</td>\n",
              "      <td>0.1</td>\n",
              "      <td>10.10000</td>\n",
              "      <td>1970.12</td>\n",
              "      <td>0.0</td>\n",
              "    </tr>\n",
              "    <tr>\n",
              "      <th>576</th>\n",
              "      <td>1996</td>\n",
              "      <td>1</td>\n",
              "      <td>27.7</td>\n",
              "      <td>12.2</td>\n",
              "      <td>3.0</td>\n",
              "      <td>77.0</td>\n",
              "      <td>0.600000</td>\n",
              "      <td>1.3</td>\n",
              "      <td>7.10000</td>\n",
              "      <td>1996.01</td>\n",
              "      <td>0.0</td>\n",
              "    </tr>\n",
              "  </tbody>\n",
              "</table>\n",
              "</div>\n",
              "      <button class=\"colab-df-convert\" onclick=\"convertToInteractive('df-f12fbea9-fdcc-4b43-9112-2674243aa97d')\"\n",
              "              title=\"Convert this dataframe to an interactive table.\"\n",
              "              style=\"display:none;\">\n",
              "        \n",
              "  <svg xmlns=\"http://www.w3.org/2000/svg\" height=\"24px\"viewBox=\"0 0 24 24\"\n",
              "       width=\"24px\">\n",
              "    <path d=\"M0 0h24v24H0V0z\" fill=\"none\"/>\n",
              "    <path d=\"M18.56 5.44l.94 2.06.94-2.06 2.06-.94-2.06-.94-.94-2.06-.94 2.06-2.06.94zm-11 1L8.5 8.5l.94-2.06 2.06-.94-2.06-.94L8.5 2.5l-.94 2.06-2.06.94zm10 10l.94 2.06.94-2.06 2.06-.94-2.06-.94-.94-2.06-.94 2.06-2.06.94z\"/><path d=\"M17.41 7.96l-1.37-1.37c-.4-.4-.92-.59-1.43-.59-.52 0-1.04.2-1.43.59L10.3 9.45l-7.72 7.72c-.78.78-.78 2.05 0 2.83L4 21.41c.39.39.9.59 1.41.59.51 0 1.02-.2 1.41-.59l7.78-7.78 2.81-2.81c.8-.78.8-2.07 0-2.86zM5.41 20L4 18.59l7.72-7.72 1.47 1.35L5.41 20z\"/>\n",
              "  </svg>\n",
              "      </button>\n",
              "      \n",
              "  <style>\n",
              "    .colab-df-container {\n",
              "      display:flex;\n",
              "      flex-wrap:wrap;\n",
              "      gap: 12px;\n",
              "    }\n",
              "\n",
              "    .colab-df-convert {\n",
              "      background-color: #E8F0FE;\n",
              "      border: none;\n",
              "      border-radius: 50%;\n",
              "      cursor: pointer;\n",
              "      display: none;\n",
              "      fill: #1967D2;\n",
              "      height: 32px;\n",
              "      padding: 0 0 0 0;\n",
              "      width: 32px;\n",
              "    }\n",
              "\n",
              "    .colab-df-convert:hover {\n",
              "      background-color: #E2EBFA;\n",
              "      box-shadow: 0px 1px 2px rgba(60, 64, 67, 0.3), 0px 1px 3px 1px rgba(60, 64, 67, 0.15);\n",
              "      fill: #174EA6;\n",
              "    }\n",
              "\n",
              "    [theme=dark] .colab-df-convert {\n",
              "      background-color: #3B4455;\n",
              "      fill: #D2E3FC;\n",
              "    }\n",
              "\n",
              "    [theme=dark] .colab-df-convert:hover {\n",
              "      background-color: #434B5C;\n",
              "      box-shadow: 0px 1px 3px 1px rgba(0, 0, 0, 0.15);\n",
              "      filter: drop-shadow(0px 1px 2px rgba(0, 0, 0, 0.3));\n",
              "      fill: #FFFFFF;\n",
              "    }\n",
              "  </style>\n",
              "\n",
              "      <script>\n",
              "        const buttonEl =\n",
              "          document.querySelector('#df-f12fbea9-fdcc-4b43-9112-2674243aa97d button.colab-df-convert');\n",
              "        buttonEl.style.display =\n",
              "          google.colab.kernel.accessAllowed ? 'block' : 'none';\n",
              "\n",
              "        async function convertToInteractive(key) {\n",
              "          const element = document.querySelector('#df-f12fbea9-fdcc-4b43-9112-2674243aa97d');\n",
              "          const dataTable =\n",
              "            await google.colab.kernel.invokeFunction('convertToInteractive',\n",
              "                                                     [key], {});\n",
              "          if (!dataTable) return;\n",
              "\n",
              "          const docLinkHtml = 'Like what you see? Visit the ' +\n",
              "            '<a target=\"_blank\" href=https://colab.research.google.com/notebooks/data_table.ipynb>data table notebook</a>'\n",
              "            + ' to learn more about interactive tables.';\n",
              "          element.innerHTML = '';\n",
              "          dataTable['output_type'] = 'display_data';\n",
              "          await google.colab.output.renderOutput(dataTable, element);\n",
              "          const docLink = document.createElement('div');\n",
              "          docLink.innerHTML = docLinkHtml;\n",
              "          element.appendChild(docLink);\n",
              "        }\n",
              "      </script>\n",
              "    </div>\n",
              "  </div>\n",
              "  "
            ]
          },
          "metadata": {},
          "execution_count": 13
        }
      ]
    },
    {
      "cell_type": "code",
      "source": [
        "test_data.head(5)"
      ],
      "metadata": {
        "colab": {
          "base_uri": "https://localhost:8080/",
          "height": 206
        },
        "id": "ovAySGATF7sF",
        "outputId": "b5daca6a-ffbf-457c-acd5-b75af8f091de"
      },
      "execution_count": 14,
      "outputs": [
        {
          "output_type": "execute_result",
          "data": {
            "text/plain": [
              "     Year  Month  Max_Temp  Min_Temp  Rainfall  Relative_Humidity  Wind_Speed  \\\n",
              "694  2005     11      32.0      18.1       0.0               80.0    0.400000   \n",
              "528  1992      1      27.9      12.3       0.0               81.0    0.500000   \n",
              "598  1997     11      34.5      18.8       2.0               78.0    0.400000   \n",
              "606  1998      7      35.0      26.5     749.0               89.0    1.200000   \n",
              "120  1958      1      29.8      12.9       1.0               69.0    0.875926   \n",
              "\n",
              "     Cloud_Coverage  Bright_Sunshine   Period  Flood?  \n",
              "694             1.2         7.700000  2005.11     0.0  \n",
              "528             0.7         6.000000  1992.01     0.0  \n",
              "598             2.2         7.200000  1997.11     0.0  \n",
              "606             7.0         2.800000  1998.07     1.0  \n",
              "120             1.1         7.296226  1958.01     0.0  "
            ],
            "text/html": [
              "\n",
              "  <div id=\"df-f5e57048-a91a-467c-80b7-4f1a340bc275\">\n",
              "    <div class=\"colab-df-container\">\n",
              "      <div>\n",
              "<style scoped>\n",
              "    .dataframe tbody tr th:only-of-type {\n",
              "        vertical-align: middle;\n",
              "    }\n",
              "\n",
              "    .dataframe tbody tr th {\n",
              "        vertical-align: top;\n",
              "    }\n",
              "\n",
              "    .dataframe thead th {\n",
              "        text-align: right;\n",
              "    }\n",
              "</style>\n",
              "<table border=\"1\" class=\"dataframe\">\n",
              "  <thead>\n",
              "    <tr style=\"text-align: right;\">\n",
              "      <th></th>\n",
              "      <th>Year</th>\n",
              "      <th>Month</th>\n",
              "      <th>Max_Temp</th>\n",
              "      <th>Min_Temp</th>\n",
              "      <th>Rainfall</th>\n",
              "      <th>Relative_Humidity</th>\n",
              "      <th>Wind_Speed</th>\n",
              "      <th>Cloud_Coverage</th>\n",
              "      <th>Bright_Sunshine</th>\n",
              "      <th>Period</th>\n",
              "      <th>Flood?</th>\n",
              "    </tr>\n",
              "  </thead>\n",
              "  <tbody>\n",
              "    <tr>\n",
              "      <th>694</th>\n",
              "      <td>2005</td>\n",
              "      <td>11</td>\n",
              "      <td>32.0</td>\n",
              "      <td>18.1</td>\n",
              "      <td>0.0</td>\n",
              "      <td>80.0</td>\n",
              "      <td>0.400000</td>\n",
              "      <td>1.2</td>\n",
              "      <td>7.700000</td>\n",
              "      <td>2005.11</td>\n",
              "      <td>0.0</td>\n",
              "    </tr>\n",
              "    <tr>\n",
              "      <th>528</th>\n",
              "      <td>1992</td>\n",
              "      <td>1</td>\n",
              "      <td>27.9</td>\n",
              "      <td>12.3</td>\n",
              "      <td>0.0</td>\n",
              "      <td>81.0</td>\n",
              "      <td>0.500000</td>\n",
              "      <td>0.7</td>\n",
              "      <td>6.000000</td>\n",
              "      <td>1992.01</td>\n",
              "      <td>0.0</td>\n",
              "    </tr>\n",
              "    <tr>\n",
              "      <th>598</th>\n",
              "      <td>1997</td>\n",
              "      <td>11</td>\n",
              "      <td>34.5</td>\n",
              "      <td>18.8</td>\n",
              "      <td>2.0</td>\n",
              "      <td>78.0</td>\n",
              "      <td>0.400000</td>\n",
              "      <td>2.2</td>\n",
              "      <td>7.200000</td>\n",
              "      <td>1997.11</td>\n",
              "      <td>0.0</td>\n",
              "    </tr>\n",
              "    <tr>\n",
              "      <th>606</th>\n",
              "      <td>1998</td>\n",
              "      <td>7</td>\n",
              "      <td>35.0</td>\n",
              "      <td>26.5</td>\n",
              "      <td>749.0</td>\n",
              "      <td>89.0</td>\n",
              "      <td>1.200000</td>\n",
              "      <td>7.0</td>\n",
              "      <td>2.800000</td>\n",
              "      <td>1998.07</td>\n",
              "      <td>1.0</td>\n",
              "    </tr>\n",
              "    <tr>\n",
              "      <th>120</th>\n",
              "      <td>1958</td>\n",
              "      <td>1</td>\n",
              "      <td>29.8</td>\n",
              "      <td>12.9</td>\n",
              "      <td>1.0</td>\n",
              "      <td>69.0</td>\n",
              "      <td>0.875926</td>\n",
              "      <td>1.1</td>\n",
              "      <td>7.296226</td>\n",
              "      <td>1958.01</td>\n",
              "      <td>0.0</td>\n",
              "    </tr>\n",
              "  </tbody>\n",
              "</table>\n",
              "</div>\n",
              "      <button class=\"colab-df-convert\" onclick=\"convertToInteractive('df-f5e57048-a91a-467c-80b7-4f1a340bc275')\"\n",
              "              title=\"Convert this dataframe to an interactive table.\"\n",
              "              style=\"display:none;\">\n",
              "        \n",
              "  <svg xmlns=\"http://www.w3.org/2000/svg\" height=\"24px\"viewBox=\"0 0 24 24\"\n",
              "       width=\"24px\">\n",
              "    <path d=\"M0 0h24v24H0V0z\" fill=\"none\"/>\n",
              "    <path d=\"M18.56 5.44l.94 2.06.94-2.06 2.06-.94-2.06-.94-.94-2.06-.94 2.06-2.06.94zm-11 1L8.5 8.5l.94-2.06 2.06-.94-2.06-.94L8.5 2.5l-.94 2.06-2.06.94zm10 10l.94 2.06.94-2.06 2.06-.94-2.06-.94-.94-2.06-.94 2.06-2.06.94z\"/><path d=\"M17.41 7.96l-1.37-1.37c-.4-.4-.92-.59-1.43-.59-.52 0-1.04.2-1.43.59L10.3 9.45l-7.72 7.72c-.78.78-.78 2.05 0 2.83L4 21.41c.39.39.9.59 1.41.59.51 0 1.02-.2 1.41-.59l7.78-7.78 2.81-2.81c.8-.78.8-2.07 0-2.86zM5.41 20L4 18.59l7.72-7.72 1.47 1.35L5.41 20z\"/>\n",
              "  </svg>\n",
              "      </button>\n",
              "      \n",
              "  <style>\n",
              "    .colab-df-container {\n",
              "      display:flex;\n",
              "      flex-wrap:wrap;\n",
              "      gap: 12px;\n",
              "    }\n",
              "\n",
              "    .colab-df-convert {\n",
              "      background-color: #E8F0FE;\n",
              "      border: none;\n",
              "      border-radius: 50%;\n",
              "      cursor: pointer;\n",
              "      display: none;\n",
              "      fill: #1967D2;\n",
              "      height: 32px;\n",
              "      padding: 0 0 0 0;\n",
              "      width: 32px;\n",
              "    }\n",
              "\n",
              "    .colab-df-convert:hover {\n",
              "      background-color: #E2EBFA;\n",
              "      box-shadow: 0px 1px 2px rgba(60, 64, 67, 0.3), 0px 1px 3px 1px rgba(60, 64, 67, 0.15);\n",
              "      fill: #174EA6;\n",
              "    }\n",
              "\n",
              "    [theme=dark] .colab-df-convert {\n",
              "      background-color: #3B4455;\n",
              "      fill: #D2E3FC;\n",
              "    }\n",
              "\n",
              "    [theme=dark] .colab-df-convert:hover {\n",
              "      background-color: #434B5C;\n",
              "      box-shadow: 0px 1px 3px 1px rgba(0, 0, 0, 0.15);\n",
              "      filter: drop-shadow(0px 1px 2px rgba(0, 0, 0, 0.3));\n",
              "      fill: #FFFFFF;\n",
              "    }\n",
              "  </style>\n",
              "\n",
              "      <script>\n",
              "        const buttonEl =\n",
              "          document.querySelector('#df-f5e57048-a91a-467c-80b7-4f1a340bc275 button.colab-df-convert');\n",
              "        buttonEl.style.display =\n",
              "          google.colab.kernel.accessAllowed ? 'block' : 'none';\n",
              "\n",
              "        async function convertToInteractive(key) {\n",
              "          const element = document.querySelector('#df-f5e57048-a91a-467c-80b7-4f1a340bc275');\n",
              "          const dataTable =\n",
              "            await google.colab.kernel.invokeFunction('convertToInteractive',\n",
              "                                                     [key], {});\n",
              "          if (!dataTable) return;\n",
              "\n",
              "          const docLinkHtml = 'Like what you see? Visit the ' +\n",
              "            '<a target=\"_blank\" href=https://colab.research.google.com/notebooks/data_table.ipynb>data table notebook</a>'\n",
              "            + ' to learn more about interactive tables.';\n",
              "          element.innerHTML = '';\n",
              "          dataTable['output_type'] = 'display_data';\n",
              "          await google.colab.output.renderOutput(dataTable, element);\n",
              "          const docLink = document.createElement('div');\n",
              "          docLink.innerHTML = docLinkHtml;\n",
              "          element.appendChild(docLink);\n",
              "        }\n",
              "      </script>\n",
              "    </div>\n",
              "  </div>\n",
              "  "
            ]
          },
          "metadata": {},
          "execution_count": 14
        }
      ]
    },
    {
      "cell_type": "code",
      "source": [
        "# Training Data\n",
        "train_y = train_data[['Flood?']]\n",
        "train_y[train_y=='0'] = 0\n",
        "train_y[train_y=='1'] = 1\n",
        "print(\"Training Data :\", train_y.shape)\n",
        "\n",
        "# Testing Data\n",
        "test_y = test_data[['Flood?']]\n",
        "test_y[test_y=='0'] = 0\n",
        "test_y[test_y=='1'] = 1\n",
        "print(\"Testing Data :\", test_y.shape)"
      ],
      "metadata": {
        "colab": {
          "base_uri": "https://localhost:8080/"
        },
        "id": "0DMEoMTeCnRa",
        "outputId": "d2f09e15-7b40-4843-c4ed-79cdb777fbdd"
      },
      "execution_count": 15,
      "outputs": [
        {
          "output_type": "stream",
          "name": "stdout",
          "text": [
            "Training Data : (554, 1)\n",
            "Testing Data : (238, 1)\n"
          ]
        }
      ]
    },
    {
      "cell_type": "code",
      "source": [
        "import warnings\n",
        "warnings.filterwarnings(\"ignore\")\n",
        "\n",
        "X = tf1.placeholder(tf.float32, [None,10])\n",
        "Y = tf1.placeholder(tf.float32, [None,1])"
      ],
      "metadata": {
        "id": "m_tt223QG70z"
      },
      "execution_count": 16,
      "outputs": []
    },
    {
      "cell_type": "code",
      "source": [
        "# weight\n",
        "W = tf1.Variable(tf.random.normal([10,1], seed=0), name='weight')\n",
        "\n",
        "# bias\n",
        "b = tf1.Variable(tf.random.normal([1], seed=0), name='bias')"
      ],
      "metadata": {
        "id": "TaNrx_0UIYgH"
      },
      "execution_count": 17,
      "outputs": []
    },
    {
      "cell_type": "code",
      "source": [
        "logits = tf.matmul(X,W) + b"
      ],
      "metadata": {
        "id": "_kveJp2sKzq3"
      },
      "execution_count": 18,
      "outputs": []
    },
    {
      "cell_type": "code",
      "source": [
        "hypothesis = tf.nn.sigmoid(logits)\n",
        "\n",
        "cost_i = tf.nn.sigmoid_cross_entropy_with_logits(logits=logits,labels=Y)\n",
        "cost = tf.reduce_mean(cost_i)\n",
        "# cost = -tf.reduce_mean(Y * tf.log(hypothesis) + (1 - Y) * tf.log(1 - hypothesis))"
      ],
      "metadata": {
        "id": "mIYknty2K3qh"
      },
      "execution_count": 19,
      "outputs": []
    },
    {
      "cell_type": "code",
      "source": [
        "train = tf1.train.GradientDescentOptimizer(learning_rate=0.1).minimize(cost)"
      ],
      "metadata": {
        "id": "I1SpOy4sK-IE"
      },
      "execution_count": 20,
      "outputs": []
    },
    {
      "cell_type": "code",
      "source": [
        "prediction = tf.cast(hypothesis > 0.5, dtype=tf.float32)\n",
        "correct_prediction = tf.equal(prediction, Y)\n",
        "accuracy = tf.reduce_mean(tf.cast(correct_prediction, dtype=tf.float32))"
      ],
      "metadata": {
        "id": "qwHjSu4oLCnm"
      },
      "execution_count": 21,
      "outputs": []
    },
    {
      "cell_type": "code",
      "source": [
        "with tf1.Session() as sess:\n",
        "    sess.run(tf1.global_variables_initializer())\n",
        "    for step in range(1001):\n",
        "        sess.run(train, feed_dict={X: train_x, Y: train_y})\n",
        "        if step % 100 == 0:\n",
        "            loss, acc = sess.run([cost, accuracy], feed_dict={X: train_x, Y: train_y})\n",
        "            print(\"Step: {:5}\\tLoss: {:.3f}\\tAcc: {:.2%}\".format(step, loss, acc))\n",
        "            \n",
        "    train_acc = sess.run(accuracy, feed_dict={X: train_x, Y: train_y})\n",
        "    test_acc,test_predict,test_correct = sess.run([accuracy,prediction,correct_prediction], feed_dict={X: test_x, Y: test_y})\n",
        "    print(\"Model Prediction =\", train_acc)\n",
        "    print(\"Test Prediction =\", test_acc)"
      ],
      "metadata": {
        "colab": {
          "base_uri": "https://localhost:8080/"
        },
        "id": "BS8-MNwqLGpg",
        "outputId": "0bb769ea-88f3-499a-b0ef-13d40a772473"
      },
      "execution_count": 22,
      "outputs": [
        {
          "output_type": "stream",
          "name": "stdout",
          "text": [
            "Step:     0\tLoss: 0.717\tAcc: 55.60%\n",
            "Step:   100\tLoss: 0.442\tAcc: 86.28%\n",
            "Step:   200\tLoss: 0.384\tAcc: 86.28%\n",
            "Step:   300\tLoss: 0.345\tAcc: 86.28%\n",
            "Step:   400\tLoss: 0.317\tAcc: 86.10%\n",
            "Step:   500\tLoss: 0.296\tAcc: 86.10%\n",
            "Step:   600\tLoss: 0.279\tAcc: 86.46%\n",
            "Step:   700\tLoss: 0.266\tAcc: 87.18%\n",
            "Step:   800\tLoss: 0.255\tAcc: 87.55%\n",
            "Step:   900\tLoss: 0.245\tAcc: 88.81%\n",
            "Step:  1000\tLoss: 0.237\tAcc: 89.89%\n",
            "Model Prediction = 0.89891696\n",
            "Test Prediction = 0.90756303\n"
          ]
        }
      ]
    },
    {
      "cell_type": "code",
      "source": [
        "def ann_slp():\n",
        "    print(\"===========Data Summary===========\")\n",
        "    print(\"Training Data :\", train_x.shape)\n",
        "    print(\"Testing Data :\", test_x.shape)\n",
        "\n",
        "    X = tf1.placeholder(tf1.float32, [None,10])\n",
        "    Y = tf1.placeholder(tf1.float32, [None, 1])\n",
        "\n",
        "    W = tf1.Variable(tf1.random_normal([10,1], seed=0), name='weight')\n",
        "    b = tf1.Variable(tf1.random_normal([1], seed=0), name='bias')\n",
        "\n",
        "    logits = tf1.matmul(X,W) + b\n",
        "    hypothesis = tf1.nn.sigmoid(logits)\n",
        "    \n",
        "    cost_i = tf1.nn.sigmoid_cross_entropy_with_logits(logits=logits,labels=Y)\n",
        "    cost = tf1.reduce_mean(cost_i)\n",
        "\n",
        "    train = tf1.train.GradientDescentOptimizer(learning_rate=0.1).minimize(cost)\n",
        "\n",
        "    prediction = tf1.cast(hypothesis > 0.5, dtype=tf.float32)\n",
        "    correct_prediction = tf1.equal(prediction, Y)\n",
        "    accuracy = tf1.reduce_mean(tf1.cast(correct_prediction, dtype=tf1.float32))\n",
        "\n",
        "    print(\"\\n============Processing============\")\n",
        "    with tf1.Session() as sess:\n",
        "        sess.run(tf1.global_variables_initializer())\n",
        "        for step in range(10001):\n",
        "            sess.run(train, feed_dict={X: train_x, Y: train_y})\n",
        "            if step % 1000 == 0:\n",
        "                loss, acc = sess.run([cost, accuracy], feed_dict={X: train_x, Y: train_y})\n",
        "                print(\"Step: {:5}\\tLoss: {:.3f}\\tAcc: {:.2%}\".format(step, loss, acc))\n",
        "\n",
        "        train_acc = sess.run(accuracy, feed_dict={X: train_x, Y: train_y})\n",
        "        test_acc,test_predict,test_correct = sess.run([accuracy,prediction,correct_prediction], feed_dict={X: test_x, Y: test_y})\n",
        "        \n",
        "        print(\"\\n============Results============\")\n",
        "        print(\"Model Prediction =\", train_acc)\n",
        "        print(\"Test Prediction =\", test_acc)\n",
        "        \n",
        "        return train_acc,test_acc\n",
        "    \n",
        "ann_slp_train_acc, ann_slp_test_acc = ann_slp()"
      ],
      "metadata": {
        "colab": {
          "base_uri": "https://localhost:8080/"
        },
        "id": "hiVbdSmaSEkB",
        "outputId": "5d39c9bf-ba74-4936-b073-17b90ad94f86"
      },
      "execution_count": 23,
      "outputs": [
        {
          "output_type": "stream",
          "name": "stdout",
          "text": [
            "===========Data Summary===========\n",
            "Training Data : (554, 10)\n",
            "Testing Data : (238, 10)\n",
            "\n",
            "============Processing============\n",
            "Step:     0\tLoss: 0.717\tAcc: 55.60%\n",
            "Step:  1000\tLoss: 0.237\tAcc: 89.89%\n",
            "Step:  2000\tLoss: 0.189\tAcc: 92.60%\n",
            "Step:  3000\tLoss: 0.165\tAcc: 93.68%\n",
            "Step:  4000\tLoss: 0.150\tAcc: 94.77%\n",
            "Step:  5000\tLoss: 0.139\tAcc: 95.31%\n",
            "Step:  6000\tLoss: 0.130\tAcc: 95.49%\n",
            "Step:  7000\tLoss: 0.123\tAcc: 96.03%\n",
            "Step:  8000\tLoss: 0.117\tAcc: 96.39%\n",
            "Step:  9000\tLoss: 0.112\tAcc: 96.57%\n",
            "Step: 10000\tLoss: 0.108\tAcc: 96.75%\n",
            "\n",
            "============Results============\n",
            "Model Prediction = 0.96750903\n",
            "Test Prediction = 0.9705882\n"
          ]
        }
      ]
    },
    {
      "cell_type": "code",
      "source": [
        "def ann_mlp():\n",
        "    print(\"===========Data Summary===========\")\n",
        "    print(\"Training Data :\", train_x.shape)\n",
        "    print(\"Testing Data :\", test_x.shape)\n",
        "\n",
        "    X = tf1.placeholder(tf1.float32, [None,10])\n",
        "    Y = tf1.placeholder(tf1.float32, [None, 1])\n",
        "\n",
        "    # input\n",
        "    W1 = tf1.Variable(tf1.random_normal([10,20], seed=0), name='weight1')\n",
        "    b1 = tf1.Variable(tf1.random_normal([20], seed=0), name='bias1')\n",
        "    layer1 = tf1.nn.sigmoid(tf1.matmul(X,W1) + b1)\n",
        "\n",
        "    # hidden1\n",
        "    W2 = tf1.Variable(tf1.random_normal([20,20], seed=0), name='weight2')\n",
        "    b2 = tf1.Variable(tf1.random_normal([20], seed=0), name='bias2')\n",
        "    layer2 = tf1.nn.sigmoid(tf1.matmul(layer1,W2) + b2)\n",
        "\n",
        "    # hidden2\n",
        "    W3 = tf1.Variable(tf1.random_normal([20,60], seed=0), name='weight3')\n",
        "    b3 = tf1.Variable(tf1.random_normal([60], seed=0), name='bias3')\n",
        "    layer3 = tf1.nn.sigmoid(tf1.matmul(layer2,W3) + b3)\n",
        "\n",
        "    # output\n",
        "    W4 = tf1.Variable(tf1.random_normal([60,1], seed=0), name='weight4')\n",
        "    b4 = tf1.Variable(tf1.random_normal([1], seed=0), name='bias4')\n",
        "    logits = tf1.matmul(layer3,W4) + b4\n",
        "    hypothesis = tf1.nn.sigmoid(logits)\n",
        "\n",
        "    cost_i = tf1.nn.sigmoid_cross_entropy_with_logits(logits=logits,labels=Y)\n",
        "    cost = tf1.reduce_mean(cost_i)\n",
        "\n",
        "    train = tf1.train.GradientDescentOptimizer(learning_rate=0.001).minimize(cost)\n",
        "\n",
        "    prediction = tf1.cast(hypothesis > 0.5, dtype=tf1.float32)\n",
        "    correct_prediction = tf1.equal(prediction, Y)\n",
        "    accuracy = tf1.reduce_mean(tf1.cast(correct_prediction, dtype=tf1.float32))\n",
        "\n",
        "    print(\"\\n============Processing============\")\n",
        "    with tf1.Session() as sess:\n",
        "        sess.run(tf1.global_variables_initializer())\n",
        "        for step in range(1001):\n",
        "            sess.run(train, feed_dict={X: train_x, Y: train_y})\n",
        "            if step % 100 == 0:\n",
        "                loss, acc = sess.run([cost, accuracy], feed_dict={X: train_x, Y: train_y})\n",
        "                print(\"Step: {:5}\\tLoss: {:.3f}\\tAcc: {:.2%}\".format(step, loss, acc))\n",
        "\n",
        "        train_acc = sess.run(accuracy, feed_dict={X: train_x, Y: train_y})\n",
        "        test_acc,test_predict,test_correct = sess.run([accuracy,prediction,correct_prediction], feed_dict={X: test_x, Y: test_y})\n",
        "        \n",
        "        print(\"\\n============Results============\")\n",
        "        print(\"Model Prediction =\", train_acc)\n",
        "        print(\"Test Prediction =\", test_acc)\n",
        "        \n",
        "        return train_acc,test_acc\n",
        "    \n",
        "ann_mlp_train_acc, ann_mlp_test_acc = ann_mlp()"
      ],
      "metadata": {
        "colab": {
          "base_uri": "https://localhost:8080/"
        },
        "id": "ZSrGGEMmp5vs",
        "outputId": "4257ed12-5b63-49fb-d22e-93937312b3cc"
      },
      "execution_count": 26,
      "outputs": [
        {
          "output_type": "stream",
          "name": "stdout",
          "text": [
            "===========Data Summary===========\n",
            "Training Data : (554, 10)\n",
            "Testing Data : (238, 10)\n",
            "\n",
            "============Processing============\n",
            "Step:     0\tLoss: 4.287\tAcc: 13.72%\n",
            "Step:   100\tLoss: 1.995\tAcc: 13.72%\n",
            "Step:   200\tLoss: 0.802\tAcc: 47.65%\n",
            "Step:   300\tLoss: 0.487\tAcc: 79.78%\n",
            "Step:   400\tLoss: 0.408\tAcc: 85.92%\n",
            "Step:   500\tLoss: 0.382\tAcc: 86.28%\n",
            "Step:   600\tLoss: 0.372\tAcc: 86.28%\n",
            "Step:   700\tLoss: 0.368\tAcc: 86.28%\n",
            "Step:   800\tLoss: 0.366\tAcc: 86.28%\n",
            "Step:   900\tLoss: 0.364\tAcc: 86.28%\n",
            "Step:  1000\tLoss: 0.363\tAcc: 86.28%\n",
            "\n",
            "============Results============\n",
            "Model Prediction = 0.86281586\n",
            "Test Prediction = 0.8697479\n"
          ]
        }
      ]
    },
    {
      "cell_type": "code",
      "source": [
        "sub = pd.DataFrame()\n",
        "sub['id'] = test_id\n",
        "sub['Predict_Type'] = test_predict.astype(int)\n",
        "sub['Origin_Type'] = test_y\n",
        "sub['Correct'] = test_correct\n",
        "sub.head(10)"
      ],
      "metadata": {
        "colab": {
          "base_uri": "https://localhost:8080/",
          "height": 363
        },
        "id": "YeA0CYYdoj50",
        "outputId": "e32df924-400d-46a5-aa01-25732a0cd96c"
      },
      "execution_count": 27,
      "outputs": [
        {
          "output_type": "execute_result",
          "data": {
            "text/plain": [
              "       id  Predict_Type  Origin_Type  Correct\n",
              "694  2050             0          0.0     True\n",
              "528  1884             0          0.0     True\n",
              "598  1954             0          0.0     True\n",
              "606  1962             1          1.0     True\n",
              "120  1476             0          0.0     True\n",
              "63   1419             0          0.0     True\n",
              "281  1637             0          0.0     True\n",
              "515  1871             0          0.0     True\n",
              "137  1493             0          0.0     True\n",
              "587  1943             0          0.0     True"
            ],
            "text/html": [
              "\n",
              "  <div id=\"df-c0b2d91f-b451-4dc1-abb1-b852544ab149\">\n",
              "    <div class=\"colab-df-container\">\n",
              "      <div>\n",
              "<style scoped>\n",
              "    .dataframe tbody tr th:only-of-type {\n",
              "        vertical-align: middle;\n",
              "    }\n",
              "\n",
              "    .dataframe tbody tr th {\n",
              "        vertical-align: top;\n",
              "    }\n",
              "\n",
              "    .dataframe thead th {\n",
              "        text-align: right;\n",
              "    }\n",
              "</style>\n",
              "<table border=\"1\" class=\"dataframe\">\n",
              "  <thead>\n",
              "    <tr style=\"text-align: right;\">\n",
              "      <th></th>\n",
              "      <th>id</th>\n",
              "      <th>Predict_Type</th>\n",
              "      <th>Origin_Type</th>\n",
              "      <th>Correct</th>\n",
              "    </tr>\n",
              "  </thead>\n",
              "  <tbody>\n",
              "    <tr>\n",
              "      <th>694</th>\n",
              "      <td>2050</td>\n",
              "      <td>0</td>\n",
              "      <td>0.0</td>\n",
              "      <td>True</td>\n",
              "    </tr>\n",
              "    <tr>\n",
              "      <th>528</th>\n",
              "      <td>1884</td>\n",
              "      <td>0</td>\n",
              "      <td>0.0</td>\n",
              "      <td>True</td>\n",
              "    </tr>\n",
              "    <tr>\n",
              "      <th>598</th>\n",
              "      <td>1954</td>\n",
              "      <td>0</td>\n",
              "      <td>0.0</td>\n",
              "      <td>True</td>\n",
              "    </tr>\n",
              "    <tr>\n",
              "      <th>606</th>\n",
              "      <td>1962</td>\n",
              "      <td>1</td>\n",
              "      <td>1.0</td>\n",
              "      <td>True</td>\n",
              "    </tr>\n",
              "    <tr>\n",
              "      <th>120</th>\n",
              "      <td>1476</td>\n",
              "      <td>0</td>\n",
              "      <td>0.0</td>\n",
              "      <td>True</td>\n",
              "    </tr>\n",
              "    <tr>\n",
              "      <th>63</th>\n",
              "      <td>1419</td>\n",
              "      <td>0</td>\n",
              "      <td>0.0</td>\n",
              "      <td>True</td>\n",
              "    </tr>\n",
              "    <tr>\n",
              "      <th>281</th>\n",
              "      <td>1637</td>\n",
              "      <td>0</td>\n",
              "      <td>0.0</td>\n",
              "      <td>True</td>\n",
              "    </tr>\n",
              "    <tr>\n",
              "      <th>515</th>\n",
              "      <td>1871</td>\n",
              "      <td>0</td>\n",
              "      <td>0.0</td>\n",
              "      <td>True</td>\n",
              "    </tr>\n",
              "    <tr>\n",
              "      <th>137</th>\n",
              "      <td>1493</td>\n",
              "      <td>0</td>\n",
              "      <td>0.0</td>\n",
              "      <td>True</td>\n",
              "    </tr>\n",
              "    <tr>\n",
              "      <th>587</th>\n",
              "      <td>1943</td>\n",
              "      <td>0</td>\n",
              "      <td>0.0</td>\n",
              "      <td>True</td>\n",
              "    </tr>\n",
              "  </tbody>\n",
              "</table>\n",
              "</div>\n",
              "      <button class=\"colab-df-convert\" onclick=\"convertToInteractive('df-c0b2d91f-b451-4dc1-abb1-b852544ab149')\"\n",
              "              title=\"Convert this dataframe to an interactive table.\"\n",
              "              style=\"display:none;\">\n",
              "        \n",
              "  <svg xmlns=\"http://www.w3.org/2000/svg\" height=\"24px\"viewBox=\"0 0 24 24\"\n",
              "       width=\"24px\">\n",
              "    <path d=\"M0 0h24v24H0V0z\" fill=\"none\"/>\n",
              "    <path d=\"M18.56 5.44l.94 2.06.94-2.06 2.06-.94-2.06-.94-.94-2.06-.94 2.06-2.06.94zm-11 1L8.5 8.5l.94-2.06 2.06-.94-2.06-.94L8.5 2.5l-.94 2.06-2.06.94zm10 10l.94 2.06.94-2.06 2.06-.94-2.06-.94-.94-2.06-.94 2.06-2.06.94z\"/><path d=\"M17.41 7.96l-1.37-1.37c-.4-.4-.92-.59-1.43-.59-.52 0-1.04.2-1.43.59L10.3 9.45l-7.72 7.72c-.78.78-.78 2.05 0 2.83L4 21.41c.39.39.9.59 1.41.59.51 0 1.02-.2 1.41-.59l7.78-7.78 2.81-2.81c.8-.78.8-2.07 0-2.86zM5.41 20L4 18.59l7.72-7.72 1.47 1.35L5.41 20z\"/>\n",
              "  </svg>\n",
              "      </button>\n",
              "      \n",
              "  <style>\n",
              "    .colab-df-container {\n",
              "      display:flex;\n",
              "      flex-wrap:wrap;\n",
              "      gap: 12px;\n",
              "    }\n",
              "\n",
              "    .colab-df-convert {\n",
              "      background-color: #E8F0FE;\n",
              "      border: none;\n",
              "      border-radius: 50%;\n",
              "      cursor: pointer;\n",
              "      display: none;\n",
              "      fill: #1967D2;\n",
              "      height: 32px;\n",
              "      padding: 0 0 0 0;\n",
              "      width: 32px;\n",
              "    }\n",
              "\n",
              "    .colab-df-convert:hover {\n",
              "      background-color: #E2EBFA;\n",
              "      box-shadow: 0px 1px 2px rgba(60, 64, 67, 0.3), 0px 1px 3px 1px rgba(60, 64, 67, 0.15);\n",
              "      fill: #174EA6;\n",
              "    }\n",
              "\n",
              "    [theme=dark] .colab-df-convert {\n",
              "      background-color: #3B4455;\n",
              "      fill: #D2E3FC;\n",
              "    }\n",
              "\n",
              "    [theme=dark] .colab-df-convert:hover {\n",
              "      background-color: #434B5C;\n",
              "      box-shadow: 0px 1px 3px 1px rgba(0, 0, 0, 0.15);\n",
              "      filter: drop-shadow(0px 1px 2px rgba(0, 0, 0, 0.3));\n",
              "      fill: #FFFFFF;\n",
              "    }\n",
              "  </style>\n",
              "\n",
              "      <script>\n",
              "        const buttonEl =\n",
              "          document.querySelector('#df-c0b2d91f-b451-4dc1-abb1-b852544ab149 button.colab-df-convert');\n",
              "        buttonEl.style.display =\n",
              "          google.colab.kernel.accessAllowed ? 'block' : 'none';\n",
              "\n",
              "        async function convertToInteractive(key) {\n",
              "          const element = document.querySelector('#df-c0b2d91f-b451-4dc1-abb1-b852544ab149');\n",
              "          const dataTable =\n",
              "            await google.colab.kernel.invokeFunction('convertToInteractive',\n",
              "                                                     [key], {});\n",
              "          if (!dataTable) return;\n",
              "\n",
              "          const docLinkHtml = 'Like what you see? Visit the ' +\n",
              "            '<a target=\"_blank\" href=https://colab.research.google.com/notebooks/data_table.ipynb>data table notebook</a>'\n",
              "            + ' to learn more about interactive tables.';\n",
              "          element.innerHTML = '';\n",
              "          dataTable['output_type'] = 'display_data';\n",
              "          await google.colab.output.renderOutput(dataTable, element);\n",
              "          const docLink = document.createElement('div');\n",
              "          docLink.innerHTML = docLinkHtml;\n",
              "          element.appendChild(docLink);\n",
              "        }\n",
              "      </script>\n",
              "    </div>\n",
              "  </div>\n",
              "  "
            ]
          },
          "metadata": {},
          "execution_count": 27
        }
      ]
    },
    {
      "cell_type": "code",
      "source": [
        "import matplotlib.pyplot as plot\n",
        "from sklearn.datasets import make_classification\n",
        "from sklearn.metrics import plot_confusion_matrix\n",
        "from sklearn.metrics import confusion_matrix, classification_report"
      ],
      "metadata": {
        "id": "FOhROHR8gFIA"
      },
      "execution_count": 28,
      "outputs": []
    },
    {
      "cell_type": "code",
      "source": [
        "classes = ['No Flood', 'Flood']\n",
        "conf_mat = confusion_matrix(test_y, test_predict)\n",
        "df_conf_mat = pd.DataFrame(conf_mat, index = classes, columns = classes)\n",
        "heat_map = sns.heatmap(df_conf_mat, annot = True, fmt = 'd')\n",
        "heat_map.yaxis.set_ticklabels(heat_map.yaxis.get_ticklabels(), ha = 'right')\n",
        "heat_map.xaxis.set_ticklabels(heat_map.xaxis.get_ticklabels(), ha = 'right')\n",
        "plt.ylabel('Actual label')\n",
        "plt.xlabel('Predicted label')"
      ],
      "metadata": {
        "colab": {
          "base_uri": "https://localhost:8080/",
          "height": 296
        },
        "id": "AaFhyn3Sd8QI",
        "outputId": "31ca4039-e939-4d9d-e34b-bd051d2310ad"
      },
      "execution_count": 29,
      "outputs": [
        {
          "output_type": "execute_result",
          "data": {
            "text/plain": [
              "Text(0.5, 15.0, 'Predicted label')"
            ]
          },
          "metadata": {},
          "execution_count": 29
        },
        {
          "output_type": "display_data",
          "data": {
            "text/plain": [
              "<Figure size 432x288 with 2 Axes>"
            ],
            "image/png": "[encoded data removed]"
          },
          "metadata": {
            "needs_background": "light"
          }
        }
      ]
    },
    {
      "cell_type": "code",
      "source": [
        "print(classification_report(test_y, test_predict, target_names=classes))"
      ],
      "metadata": {
        "colab": {
          "base_uri": "https://localhost:8080/"
        },
        "id": "dpZr79QNAKmT",
        "outputId": "e0e7c711-9cd6-4b23-b07f-d8af8537d4bb"
      },
      "execution_count": 30,
      "outputs": [
        {
          "output_type": "stream",
          "name": "stdout",
          "text": [
            "              precision    recall  f1-score   support\n",
            "\n",
            "    No Flood       0.91      1.00      0.95       207\n",
            "       Flood       0.91      0.32      0.48        31\n",
            "\n",
            "    accuracy                           0.91       238\n",
            "   macro avg       0.91      0.66      0.71       238\n",
            "weighted avg       0.91      0.91      0.89       238\n",
            "\n"
          ]
        }
      ]
    }
  ]
}