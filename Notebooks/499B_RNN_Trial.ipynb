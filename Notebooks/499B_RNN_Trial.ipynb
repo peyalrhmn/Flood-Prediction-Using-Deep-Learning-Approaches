{
  "nbformat": 4,
  "nbformat_minor": 0,
  "metadata": {
    "colab": {
      "name": "499B RNN Trial.ipynb",
      "provenance": [],
      "collapsed_sections": []
    },
    "kernelspec": {
      "name": "python3",
      "display_name": "Python 3"
    },
    "language_info": {
      "name": "python"
    },
    "accelerator": "GPU",
    "gpuClass": "standard"
  },
  "cells": [
    {
      "cell_type": "markdown",
      "source": [
        "# **Setup**"
      ],
      "metadata": {
        "id": "d465dLdWQbI5"
      }
    },
    {
      "cell_type": "code",
      "source": [
        "#Imports\n",
        "import os\n",
        "import torch\n",
        "import pandas as pd\n",
        "from sklearn.model_selection import train_test_split\n",
        "from torch import nn, optim\n",
        "import torch.nn.functional as func\n",
        "from sklearn.metrics import confusion_matrix, classification_report\n",
        "import seaborn as sns\n",
        "import matplotlib.pyplot as plt\n"
      ],
      "metadata": {
        "id": "QccFafOvRFlQ"
      },
      "execution_count": null,
      "outputs": []
    },
    {
      "cell_type": "code",
      "execution_count": null,
      "metadata": {
        "id": "TT2LJqYHiGTt",
        "colab": {
          "base_uri": "https://localhost:8080/"
        },
        "outputId": "69a0e30b-44d8-4160-8ec0-69798580c7b5"
      },
      "outputs": [
        {
          "output_type": "stream",
          "name": "stdout",
          "text": [
            "Mounted at /content/drive\n"
          ]
        }
      ],
      "source": [
        "from google.colab import drive\n",
        "drive.mount('/content/drive')"
      ]
    },
    {
      "cell_type": "code",
      "source": [
        "# sys.path.append('/content/drive/MyDrive/499A')\n",
        "# %cd '/content/drive/MyDrive/499A'\n",
        "os.chdir('/content/drive/MyDrive/499A')\n",
        "# EXPERIMENT_NAME \n",
        "EXPERIMENT_NAME = \"Expt 21\"\n",
        "\n",
        "ROOT_DIR = os.path.abspath(\"./\")\n",
        "LOG_PATH = os.path.join(ROOT_DIR, \"RNN logs\", EXPERIMENT_NAME)\n",
        "\n",
        "if not os.path.exists(os.path.join(ROOT_DIR, \"RNN logs\")):\n",
        "    os.mkdir(os.path.join(ROOT_DIR, \"RNN logs\"))\n",
        "    \n",
        "if not os.path.exists(LOG_PATH):\n",
        "    os.mkdir(LOG_PATH)"
      ],
      "metadata": {
        "id": "9DzevOVtPmig"
      },
      "execution_count": null,
      "outputs": []
    },
    {
      "cell_type": "markdown",
      "source": [
        "# **Load Data**"
      ],
      "metadata": {
        "id": "Bo6214g5QvYQ"
      }
    },
    {
      "cell_type": "code",
      "source": [
        "!pwd"
      ],
      "metadata": {
        "colab": {
          "base_uri": "https://localhost:8080/"
        },
        "id": "i29UeBQJurWC",
        "outputId": "f45a184c-f85e-43cc-e0c5-f8899b05a6c6"
      },
      "execution_count": null,
      "outputs": [
        {
          "output_type": "stream",
          "name": "stdout",
          "text": [
            "/content/drive/MyDrive/499A\n"
          ]
        }
      ]
    },
    {
      "cell_type": "code",
      "source": [
        "df = pd.read_csv('Dataset/BarisalFlood.csv')\n",
        "df.head(5)"
      ],
      "metadata": {
        "id": "Oo5ATQTeQyCH",
        "colab": {
          "base_uri": "https://localhost:8080/",
          "height": 270
        },
        "outputId": "6b03e6b5-a59c-44e1-892b-dcc7b39049f4"
      },
      "execution_count": null,
      "outputs": [
        {
          "output_type": "execute_result",
          "data": {
            "text/plain": [
              "   Sl Station_Names  Year  Month  Max_Temp  Min_Temp  Rainfall  \\\n",
              "0   0       Barisal  1949      1      29.4      12.3         0   \n",
              "1   1       Barisal  1949      2      33.9      15.2         9   \n",
              "2   2       Barisal  1949      3      36.7      20.2         8   \n",
              "3   3       Barisal  1949      4      33.9      23.9       140   \n",
              "4   4       Barisal  1949      5      35.6      25.0       217   \n",
              "\n",
              "   Relative_Humidity  Wind_Speed  Cloud_Coverage  Bright_Sunshine  \\\n",
              "0                 68    0.453704             0.6         7.831915   \n",
              "1                 63    0.659259             0.9         8.314894   \n",
              "2                 59    1.085185             1.5         8.131915   \n",
              "3                 71    1.772222             3.9         8.219149   \n",
              "4                 76    1.703704             4.1         7.046809   \n",
              "\n",
              "   Station_Number     X_COR     Y_COR  LATITUDE  LONGITUDE  ALT   Period  \\\n",
              "0           41950  536809.8  510151.9      22.7      90.36    4  1949.01   \n",
              "1           41950  536809.8  510151.9      22.7      90.36    4  1949.02   \n",
              "2           41950  536809.8  510151.9      22.7      90.36    4  1949.03   \n",
              "3           41950  536809.8  510151.9      22.7      90.36    4  1949.04   \n",
              "4           41950  536809.8  510151.9      22.7      90.36    4  1949.05   \n",
              "\n",
              "   Flood?  \n",
              "0     NaN  \n",
              "1     NaN  \n",
              "2     NaN  \n",
              "3     NaN  \n",
              "4     NaN  "
            ],
            "text/html": [
              "\n",
              "  <div id=\"df-d477faa6-2189-4d53-82a8-9cdb772ac716\">\n",
              "    <div class=\"colab-df-container\">\n",
              "      <div>\n",
              "<style scoped>\n",
              "    .dataframe tbody tr th:only-of-type {\n",
              "        vertical-align: middle;\n",
              "    }\n",
              "\n",
              "    .dataframe tbody tr th {\n",
              "        vertical-align: top;\n",
              "    }\n",
              "\n",
              "    .dataframe thead th {\n",
              "        text-align: right;\n",
              "    }\n",
              "</style>\n",
              "<table border=\"1\" class=\"dataframe\">\n",
              "  <thead>\n",
              "    <tr style=\"text-align: right;\">\n",
              "      <th></th>\n",
              "      <th>Sl</th>\n",
              "      <th>Station_Names</th>\n",
              "      <th>Year</th>\n",
              "      <th>Month</th>\n",
              "      <th>Max_Temp</th>\n",
              "      <th>Min_Temp</th>\n",
              "      <th>Rainfall</th>\n",
              "      <th>Relative_Humidity</th>\n",
              "      <th>Wind_Speed</th>\n",
              "      <th>Cloud_Coverage</th>\n",
              "      <th>Bright_Sunshine</th>\n",
              "      <th>Station_Number</th>\n",
              "      <th>X_COR</th>\n",
              "      <th>Y_COR</th>\n",
              "      <th>LATITUDE</th>\n",
              "      <th>LONGITUDE</th>\n",
              "      <th>ALT</th>\n",
              "      <th>Period</th>\n",
              "      <th>Flood?</th>\n",
              "    </tr>\n",
              "  </thead>\n",
              "  <tbody>\n",
              "    <tr>\n",
              "      <th>0</th>\n",
              "      <td>0</td>\n",
              "      <td>Barisal</td>\n",
              "      <td>1949</td>\n",
              "      <td>1</td>\n",
              "      <td>29.4</td>\n",
              "      <td>12.3</td>\n",
              "      <td>0</td>\n",
              "      <td>68</td>\n",
              "      <td>0.453704</td>\n",
              "      <td>0.6</td>\n",
              "      <td>7.831915</td>\n",
              "      <td>41950</td>\n",
              "      <td>536809.8</td>\n",
              "      <td>510151.9</td>\n",
              "      <td>22.7</td>\n",
              "      <td>90.36</td>\n",
              "      <td>4</td>\n",
              "      <td>1949.01</td>\n",
              "      <td>NaN</td>\n",
              "    </tr>\n",
              "    <tr>\n",
              "      <th>1</th>\n",
              "      <td>1</td>\n",
              "      <td>Barisal</td>\n",
              "      <td>1949</td>\n",
              "      <td>2</td>\n",
              "      <td>33.9</td>\n",
              "      <td>15.2</td>\n",
              "      <td>9</td>\n",
              "      <td>63</td>\n",
              "      <td>0.659259</td>\n",
              "      <td>0.9</td>\n",
              "      <td>8.314894</td>\n",
              "      <td>41950</td>\n",
              "      <td>536809.8</td>\n",
              "      <td>510151.9</td>\n",
              "      <td>22.7</td>\n",
              "      <td>90.36</td>\n",
              "      <td>4</td>\n",
              "      <td>1949.02</td>\n",
              "      <td>NaN</td>\n",
              "    </tr>\n",
              "    <tr>\n",
              "      <th>2</th>\n",
              "      <td>2</td>\n",
              "      <td>Barisal</td>\n",
              "      <td>1949</td>\n",
              "      <td>3</td>\n",
              "      <td>36.7</td>\n",
              "      <td>20.2</td>\n",
              "      <td>8</td>\n",
              "      <td>59</td>\n",
              "      <td>1.085185</td>\n",
              "      <td>1.5</td>\n",
              "      <td>8.131915</td>\n",
              "      <td>41950</td>\n",
              "      <td>536809.8</td>\n",
              "      <td>510151.9</td>\n",
              "      <td>22.7</td>\n",
              "      <td>90.36</td>\n",
              "      <td>4</td>\n",
              "      <td>1949.03</td>\n",
              "      <td>NaN</td>\n",
              "    </tr>\n",
              "    <tr>\n",
              "      <th>3</th>\n",
              "      <td>3</td>\n",
              "      <td>Barisal</td>\n",
              "      <td>1949</td>\n",
              "      <td>4</td>\n",
              "      <td>33.9</td>\n",
              "      <td>23.9</td>\n",
              "      <td>140</td>\n",
              "      <td>71</td>\n",
              "      <td>1.772222</td>\n",
              "      <td>3.9</td>\n",
              "      <td>8.219149</td>\n",
              "      <td>41950</td>\n",
              "      <td>536809.8</td>\n",
              "      <td>510151.9</td>\n",
              "      <td>22.7</td>\n",
              "      <td>90.36</td>\n",
              "      <td>4</td>\n",
              "      <td>1949.04</td>\n",
              "      <td>NaN</td>\n",
              "    </tr>\n",
              "    <tr>\n",
              "      <th>4</th>\n",
              "      <td>4</td>\n",
              "      <td>Barisal</td>\n",
              "      <td>1949</td>\n",
              "      <td>5</td>\n",
              "      <td>35.6</td>\n",
              "      <td>25.0</td>\n",
              "      <td>217</td>\n",
              "      <td>76</td>\n",
              "      <td>1.703704</td>\n",
              "      <td>4.1</td>\n",
              "      <td>7.046809</td>\n",
              "      <td>41950</td>\n",
              "      <td>536809.8</td>\n",
              "      <td>510151.9</td>\n",
              "      <td>22.7</td>\n",
              "      <td>90.36</td>\n",
              "      <td>4</td>\n",
              "      <td>1949.05</td>\n",
              "      <td>NaN</td>\n",
              "    </tr>\n",
              "  </tbody>\n",
              "</table>\n",
              "</div>\n",
              "      <button class=\"colab-df-convert\" onclick=\"convertToInteractive('df-d477faa6-2189-4d53-82a8-9cdb772ac716')\"\n",
              "              title=\"Convert this dataframe to an interactive table.\"\n",
              "              style=\"display:none;\">\n",
              "        \n",
              "  <svg xmlns=\"http://www.w3.org/2000/svg\" height=\"24px\"viewBox=\"0 0 24 24\"\n",
              "       width=\"24px\">\n",
              "    <path d=\"M0 0h24v24H0V0z\" fill=\"none\"/>\n",
              "    <path d=\"M18.56 5.44l.94 2.06.94-2.06 2.06-.94-2.06-.94-.94-2.06-.94 2.06-2.06.94zm-11 1L8.5 8.5l.94-2.06 2.06-.94-2.06-.94L8.5 2.5l-.94 2.06-2.06.94zm10 10l.94 2.06.94-2.06 2.06-.94-2.06-.94-.94-2.06-.94 2.06-2.06.94z\"/><path d=\"M17.41 7.96l-1.37-1.37c-.4-.4-.92-.59-1.43-.59-.52 0-1.04.2-1.43.59L10.3 9.45l-7.72 7.72c-.78.78-.78 2.05 0 2.83L4 21.41c.39.39.9.59 1.41.59.51 0 1.02-.2 1.41-.59l7.78-7.78 2.81-2.81c.8-.78.8-2.07 0-2.86zM5.41 20L4 18.59l7.72-7.72 1.47 1.35L5.41 20z\"/>\n",
              "  </svg>\n",
              "      </button>\n",
              "      \n",
              "  <style>\n",
              "    .colab-df-container {\n",
              "      display:flex;\n",
              "      flex-wrap:wrap;\n",
              "      gap: 12px;\n",
              "    }\n",
              "\n",
              "    .colab-df-convert {\n",
              "      background-color: #E8F0FE;\n",
              "      border: none;\n",
              "      border-radius: 50%;\n",
              "      cursor: pointer;\n",
              "      display: none;\n",
              "      fill: #1967D2;\n",
              "      height: 32px;\n",
              "      padding: 0 0 0 0;\n",
              "      width: 32px;\n",
              "    }\n",
              "\n",
              "    .colab-df-convert:hover {\n",
              "      background-color: #E2EBFA;\n",
              "      box-shadow: 0px 1px 2px rgba(60, 64, 67, 0.3), 0px 1px 3px 1px rgba(60, 64, 67, 0.15);\n",
              "      fill: #174EA6;\n",
              "    }\n",
              "\n",
              "    [theme=dark] .colab-df-convert {\n",
              "      background-color: #3B4455;\n",
              "      fill: #D2E3FC;\n",
              "    }\n",
              "\n",
              "    [theme=dark] .colab-df-convert:hover {\n",
              "      background-color: #434B5C;\n",
              "      box-shadow: 0px 1px 3px 1px rgba(0, 0, 0, 0.15);\n",
              "      filter: drop-shadow(0px 1px 2px rgba(0, 0, 0, 0.3));\n",
              "      fill: #FFFFFF;\n",
              "    }\n",
              "  </style>\n",
              "\n",
              "      <script>\n",
              "        const buttonEl =\n",
              "          document.querySelector('#df-d477faa6-2189-4d53-82a8-9cdb772ac716 button.colab-df-convert');\n",
              "        buttonEl.style.display =\n",
              "          google.colab.kernel.accessAllowed ? 'block' : 'none';\n",
              "\n",
              "        async function convertToInteractive(key) {\n",
              "          const element = document.querySelector('#df-d477faa6-2189-4d53-82a8-9cdb772ac716');\n",
              "          const dataTable =\n",
              "            await google.colab.kernel.invokeFunction('convertToInteractive',\n",
              "                                                     [key], {});\n",
              "          if (!dataTable) return;\n",
              "\n",
              "          const docLinkHtml = 'Like what you see? Visit the ' +\n",
              "            '<a target=\"_blank\" href=https://colab.research.google.com/notebooks/data_table.ipynb>data table notebook</a>'\n",
              "            + ' to learn more about interactive tables.';\n",
              "          element.innerHTML = '';\n",
              "          dataTable['output_type'] = 'display_data';\n",
              "          await google.colab.output.renderOutput(dataTable, element);\n",
              "          const docLink = document.createElement('div');\n",
              "          docLink.innerHTML = docLinkHtml;\n",
              "          element.appendChild(docLink);\n",
              "        }\n",
              "      </script>\n",
              "    </div>\n",
              "  </div>\n",
              "  "
            ]
          },
          "metadata": {},
          "execution_count": 5
        }
      ]
    },
    {
      "cell_type": "code",
      "source": [
        "df.shape"
      ],
      "metadata": {
        "colab": {
          "base_uri": "https://localhost:8080/"
        },
        "id": "pY1aTN3QwE0z",
        "outputId": "3388d6aa-96ec-4b12-af8a-77c947703bab"
      },
      "execution_count": null,
      "outputs": [
        {
          "output_type": "execute_result",
          "data": {
            "text/plain": [
              "(780, 19)"
            ]
          },
          "metadata": {},
          "execution_count": 6
        }
      ]
    },
    {
      "cell_type": "code",
      "source": [
        "df.info()"
      ],
      "metadata": {
        "colab": {
          "base_uri": "https://localhost:8080/"
        },
        "id": "A3_ht9LwwQnb",
        "outputId": "a268c36d-cadc-461a-ee8d-3d48c456700d"
      },
      "execution_count": null,
      "outputs": [
        {
          "output_type": "stream",
          "name": "stdout",
          "text": [
            "<class 'pandas.core.frame.DataFrame'>\n",
            "RangeIndex: 780 entries, 0 to 779\n",
            "Data columns (total 19 columns):\n",
            " #   Column             Non-Null Count  Dtype  \n",
            "---  ------             --------------  -----  \n",
            " 0   Sl                 780 non-null    int64  \n",
            " 1   Station_Names      780 non-null    object \n",
            " 2   Year               780 non-null    int64  \n",
            " 3   Month              780 non-null    int64  \n",
            " 4   Max_Temp           780 non-null    float64\n",
            " 5   Min_Temp           780 non-null    float64\n",
            " 6   Rainfall           780 non-null    int64  \n",
            " 7   Relative_Humidity  780 non-null    int64  \n",
            " 8   Wind_Speed         780 non-null    float64\n",
            " 9   Cloud_Coverage     780 non-null    float64\n",
            " 10  Bright_Sunshine    780 non-null    float64\n",
            " 11  Station_Number     780 non-null    int64  \n",
            " 12  X_COR              780 non-null    float64\n",
            " 13  Y_COR              780 non-null    float64\n",
            " 14  LATITUDE           780 non-null    float64\n",
            " 15  LONGITUDE          780 non-null    float64\n",
            " 16  ALT                780 non-null    int64  \n",
            " 17  Period             780 non-null    float64\n",
            " 18  Flood?             235 non-null    float64\n",
            "dtypes: float64(11), int64(7), object(1)\n",
            "memory usage: 115.9+ KB\n"
          ]
        }
      ]
    },
    {
      "cell_type": "code",
      "source": [
        "df['Flood?'].value_counts()"
      ],
      "metadata": {
        "colab": {
          "base_uri": "https://localhost:8080/"
        },
        "id": "ovQrPTz9wFtb",
        "outputId": "12295c8a-275a-4651-c83f-963dec8d7538"
      },
      "execution_count": null,
      "outputs": [
        {
          "output_type": "execute_result",
          "data": {
            "text/plain": [
              "1.0    235\n",
              "Name: Flood?, dtype: int64"
            ]
          },
          "metadata": {},
          "execution_count": 8
        }
      ]
    },
    {
      "cell_type": "code",
      "source": [
        "df['Flood?']=df['Flood?'].fillna(0)"
      ],
      "metadata": {
        "id": "ugijHD1TxQrr"
      },
      "execution_count": null,
      "outputs": []
    },
    {
      "cell_type": "code",
      "source": [
        "df['Flood?'].value_counts()"
      ],
      "metadata": {
        "colab": {
          "base_uri": "https://localhost:8080/"
        },
        "id": "BWcl6BVnxU37",
        "outputId": "864e6c12-4c4b-451e-df0d-a510cbcfb7c3"
      },
      "execution_count": null,
      "outputs": [
        {
          "output_type": "execute_result",
          "data": {
            "text/plain": [
              "0.0    545\n",
              "1.0    235\n",
              "Name: Flood?, dtype: int64"
            ]
          },
          "metadata": {},
          "execution_count": 10
        }
      ]
    },
    {
      "cell_type": "code",
      "source": [
        "df['Flood?'].value_counts()/len(df)"
      ],
      "metadata": {
        "id": "tMOPjBog39YL",
        "outputId": "f1955fdc-eceb-4a47-e6dd-016984de40f5",
        "colab": {
          "base_uri": "https://localhost:8080/"
        }
      },
      "execution_count": null,
      "outputs": [
        {
          "output_type": "execute_result",
          "data": {
            "text/plain": [
              "0.0    0.698718\n",
              "1.0    0.301282\n",
              "Name: Flood?, dtype: float64"
            ]
          },
          "metadata": {},
          "execution_count": 30
        }
      ]
    },
    {
      "cell_type": "code",
      "source": [
        "X = df[['Year', 'Month', 'Max_Temp', 'Min_Temp', 'Rainfall', 'Relative_Humidity', 'Wind_Speed', 'Cloud_Coverage', 'Bright_Sunshine']]\n",
        "y=df[['Flood?']]"
      ],
      "metadata": {
        "id": "Z53bTEq1xlR6"
      },
      "execution_count": null,
      "outputs": []
    },
    {
      "cell_type": "code",
      "source": [
        "X_train, X_test, y_train, y_test = train_test_split(X, y, test_size = 0.2, random_state = 42)"
      ],
      "metadata": {
        "id": "Pqs3xC_Ryqlz"
      },
      "execution_count": null,
      "outputs": []
    },
    {
      "cell_type": "code",
      "source": [
        "X_train = torch.from_numpy(X_train.to_numpy()).float()\n",
        "y_train = torch.squeeze(torch.from_numpy(y_train.to_numpy()).float())\n",
        "X_test = torch.from_numpy(X_test.to_numpy()).float()\n",
        "y_test = torch.squeeze(torch.from_numpy(y_test.to_numpy()).float())"
      ],
      "metadata": {
        "id": "z04nedDAwktz"
      },
      "execution_count": null,
      "outputs": []
    },
    {
      "cell_type": "code",
      "source": [
        "print(X_train.shape, y_train.shape)\n",
        "print(X_test.shape, y_test.shape)"
      ],
      "metadata": {
        "colab": {
          "base_uri": "https://localhost:8080/"
        },
        "id": "iKovt2iJzEXC",
        "outputId": "7f6a6acf-4d40-4a9a-86e8-a3a1b7f31884"
      },
      "execution_count": null,
      "outputs": [
        {
          "output_type": "stream",
          "name": "stdout",
          "text": [
            "torch.Size([624, 9]) torch.Size([624])\n",
            "torch.Size([156, 9]) torch.Size([156])\n"
          ]
        }
      ]
    },
    {
      "cell_type": "code",
      "source": [
        "#Creating the Model\n",
        "class Model(nn.Module):\n",
        "  def __init__(self, n_features):\n",
        "    super(Model, self).__init__()\n",
        "    self.fc1 = nn.Linear(n_features, 9)\n",
        "    self.fc2 = nn.Linear(9, 7)\n",
        "    self.fc3 = nn.Linear(7, 5)\n",
        "    self.fc4 = nn.Linear(5, 3)\n",
        "    self.fc5 = nn.Linear(3, 1)\n",
        "  def forward(self, x):\n",
        "    x = func.relu(self.fc1(x))\n",
        "    x = func.relu(self.fc2(x))\n",
        "    x = func.relu(self.fc3(x))\n",
        "    x = func.relu(self.fc4(x))\n",
        "    return torch.sigmoid(self.fc5(x))"
      ],
      "metadata": {
        "id": "CqMbEYTBzSaK"
      },
      "execution_count": null,
      "outputs": []
    },
    {
      "cell_type": "code",
      "source": [
        "X_train.shape[1]"
      ],
      "metadata": {
        "colab": {
          "base_uri": "https://localhost:8080/"
        },
        "id": "emJ9qT-718rL",
        "outputId": "1a512c0b-027c-4f53-b5d6-9d8e7a50874a"
      },
      "execution_count": null,
      "outputs": [
        {
          "output_type": "execute_result",
          "data": {
            "text/plain": [
              "9"
            ]
          },
          "metadata": {},
          "execution_count": 16
        }
      ]
    },
    {
      "cell_type": "code",
      "source": [
        "model = Model(X_train.shape[1])"
      ],
      "metadata": {
        "id": "NA7llGCazhd6"
      },
      "execution_count": null,
      "outputs": []
    },
    {
      "cell_type": "code",
      "source": [
        "criterion = nn.BCELoss()"
      ],
      "metadata": {
        "id": "p2MAD0jozkAa"
      },
      "execution_count": null,
      "outputs": []
    },
    {
      "cell_type": "code",
      "source": [
        "optimiser = optim.Adam(model.parameters(), lr = 0.001)"
      ],
      "metadata": {
        "id": "s9FaT8Vmzm_D"
      },
      "execution_count": null,
      "outputs": []
    },
    {
      "cell_type": "code",
      "source": [
        "device = torch.device('cuda:0' if torch.cuda.is_available() else 'cpu')\n",
        "X_train = X_train.to(device)\n",
        "y_train = y_train.to(device)\n",
        "\n",
        "X_test = X_test.to(device)\n",
        "y_test = y_test.to(device)\n",
        "\n",
        "model = model.to(device)\n",
        "criterion = criterion.to(device)"
      ],
      "metadata": {
        "id": "GuchP7KVznl6"
      },
      "execution_count": null,
      "outputs": []
    },
    {
      "cell_type": "code",
      "source": [
        "def calculate_accuracy(y_true, y_pred):\n",
        "  predicted = y_pred.ge(.5).view(-1)\n",
        "  return (y_true == predicted).sum().float() / len(y_true)"
      ],
      "metadata": {
        "id": "KeJd6E9VzyPb"
      },
      "execution_count": null,
      "outputs": []
    },
    {
      "cell_type": "code",
      "source": [
        "def round_tensor(t, decimal_places = 3):\n",
        "  return round(t.item(), decimal_places)"
      ],
      "metadata": {
        "id": "1OXVX-Kg0A7D"
      },
      "execution_count": null,
      "outputs": []
    },
    {
      "cell_type": "code",
      "source": [
        "#Training Starts\n",
        "for epoch in range(1000):\n",
        "    y_pred = model(X_train)\n",
        "    y_pred = torch.squeeze(y_pred)\n",
        "    train_loss = criterion(y_pred, y_train)\n",
        "    if epoch % 100 == 0:\n",
        "      train_acc = calculate_accuracy(y_train, y_pred)\n",
        "      y_test_pred = model(X_test)\n",
        "      y_test_pred = torch.squeeze(y_test_pred)\n",
        "      test_loss = criterion(y_test_pred, y_test)\n",
        "      test_acc = calculate_accuracy(y_test, y_test_pred)\n",
        "      print (str('epoch ') + str(epoch) + str(' Train set: loss: ') + str(round_tensor(train_loss)) + str(', accuracy: ') + str(round_tensor(train_acc)) + str(' Test  set: loss: ') + str(round_tensor(test_loss)) + str(', accuracy: ') + str(round_tensor(test_acc)))\n",
        "    optimiser.zero_grad()\n",
        "    train_loss.backward()\n",
        "    optimiser.step()"
      ],
      "metadata": {
        "colab": {
          "base_uri": "https://localhost:8080/"
        },
        "id": "SDt0NxWc0EIU",
        "outputId": "c37acffa-2234-43a0-eff2-c21d9808aa87"
      },
      "execution_count": null,
      "outputs": [
        {
          "output_type": "stream",
          "name": "stdout",
          "text": [
            "epoch 0 Train set: loss: 6.344, accuracy: 0.293 Test  set: loss: 5.952, accuracy: 0.333\n",
            "epoch 100 Train set: loss: 0.219, accuracy: 0.931 Test  set: loss: 0.244, accuracy: 0.904\n",
            "epoch 200 Train set: loss: 0.158, accuracy: 0.942 Test  set: loss: 0.198, accuracy: 0.904\n",
            "epoch 300 Train set: loss: 0.145, accuracy: 0.941 Test  set: loss: 0.195, accuracy: 0.904\n",
            "epoch 400 Train set: loss: 0.14, accuracy: 0.941 Test  set: loss: 0.198, accuracy: 0.904\n",
            "epoch 500 Train set: loss: 0.139, accuracy: 0.941 Test  set: loss: 0.201, accuracy: 0.904\n",
            "epoch 600 Train set: loss: 0.138, accuracy: 0.941 Test  set: loss: 0.203, accuracy: 0.904\n",
            "epoch 700 Train set: loss: 0.138, accuracy: 0.941 Test  set: loss: 0.204, accuracy: 0.904\n",
            "epoch 800 Train set: loss: 0.137, accuracy: 0.941 Test  set: loss: 0.205, accuracy: 0.904\n",
            "epoch 900 Train set: loss: 0.137, accuracy: 0.941 Test  set: loss: 0.205, accuracy: 0.904\n"
          ]
        }
      ]
    },
    {
      "cell_type": "code",
      "source": [
        "classes = ['No Flood', 'Flood']\n",
        "\n",
        "y_pred = model(X_test)\n",
        "y_pred = y_pred.ge(.5).view(-1).cpu()\n",
        "y_test = y_test.cpu()\n",
        "print(classification_report(y_test, y_pred, target_names=classes))"
      ],
      "metadata": {
        "colab": {
          "base_uri": "https://localhost:8080/"
        },
        "id": "tdV2DoT41NCz",
        "outputId": "4eaec9d9-f9df-4aeb-fcfa-bdd69c61af46"
      },
      "execution_count": null,
      "outputs": [
        {
          "output_type": "stream",
          "name": "stdout",
          "text": [
            "              precision    recall  f1-score   support\n",
            "\n",
            "    No Flood       0.94      0.91      0.93       104\n",
            "       Flood       0.84      0.88      0.86        52\n",
            "\n",
            "    accuracy                           0.90       156\n",
            "   macro avg       0.89      0.90      0.89       156\n",
            "weighted avg       0.91      0.90      0.90       156\n",
            "\n"
          ]
        }
      ]
    },
    {
      "cell_type": "code",
      "source": [
        "conf_mat = confusion_matrix(y_test, y_pred)\n",
        "df_conf_mat = pd.DataFrame(conf_mat, index = classes, columns = classes)\n",
        "heat_map = sns.heatmap(df_conf_mat, annot = True, fmt = 'd')\n",
        "heat_map.yaxis.set_ticklabels(heat_map.yaxis.get_ticklabels(), ha = 'right')\n",
        "heat_map.xaxis.set_ticklabels(heat_map.xaxis.get_ticklabels(), ha = 'right')\n",
        "plt.ylabel('Actual label')\n",
        "plt.xlabel('Predicted label')"
      ],
      "metadata": {
        "colab": {
          "base_uri": "https://localhost:8080/",
          "height": 296
        },
        "id": "a-VHPFuh3ZNk",
        "outputId": "f1d065d7-2cff-4128-b4ab-787d9f0b8262"
      },
      "execution_count": null,
      "outputs": [
        {
          "output_type": "execute_result",
          "data": {
            "text/plain": [
              "Text(0.5, 15.0, 'Predicted label')"
            ]
          },
          "metadata": {},
          "execution_count": 29
        },
        {
          "output_type": "display_data",
          "data": {
            "text/plain": [
              "<Figure size 432x288 with 2 Axes>"
            ],
            "image/png": "[encoded data removed]"
          },
          "metadata": {
            "needs_background": "light"
          }
        }
      ]
    }
  ]
}