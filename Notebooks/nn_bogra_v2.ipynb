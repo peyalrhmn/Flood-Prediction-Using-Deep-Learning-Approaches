{
  "nbformat": 4,
  "nbformat_minor": 0,
  "metadata": {
    "colab": {
      "name": "nn_bogra_v2.ipynb",
      "provenance": []
    },
    "kernelspec": {
      "name": "python3",
      "display_name": "Python 3"
    },
    "language_info": {
      "name": "python"
    }
  },
  "cells": [
    {
      "cell_type": "code",
      "execution_count": 1,
      "metadata": {
        "id": "A6tiVVSh5Urs"
      },
      "outputs": [],
      "source": [
        "\n",
        "import tensorflow as tf\n",
        "from tensorflow.keras.models import Sequential\n",
        "from tensorflow.keras.layers import Dense\n",
        "from tensorflow.keras.layers import LSTM\n",
        "from tensorflow.keras.layers import Embedding\n",
        "from tensorflow.keras.preprocessing import sequence\n",
        "# fix random seed for reproducibility\n",
        "tf.random.set_seed(7)"
      ]
    },
    {
      "cell_type": "code",
      "source": [
        "from google.colab import files\n",
        "uploaded = files.upload()"
      ],
      "metadata": {
        "colab": {
          "resources": {
            "http://localhost:8080/nbextensions/google.colab/files.js": {
              "data": "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",
              "ok": true,
              "headers": [
                [
                  "content-type",
                  "application/javascript"
                ]
              ],
              "status": 200,
              "status_text": ""
            }
          },
          "base_uri": "https://localhost:8080/",
          "height": 73
        },
        "id": "1hvvqajO5pGB",
        "outputId": "726e08aa-d129-4490-caa1-6d9d742bfd44"
      },
      "execution_count": 2,
      "outputs": [
        {
          "output_type": "display_data",
          "data": {
            "text/plain": [
              "<IPython.core.display.HTML object>"
            ],
            "text/html": [
              "\n",
              "     <input type=\"file\" id=\"files-e1b3d27d-e45e-4e70-8ea0-1bb5e3529a88\" name=\"files[]\" multiple disabled\n",
              "        style=\"border:none\" />\n",
              "     <output id=\"result-e1b3d27d-e45e-4e70-8ea0-1bb5e3529a88\">\n",
              "      Upload widget is only available when the cell has been executed in the\n",
              "      current browser session. Please rerun this cell to enable.\n",
              "      </output>\n",
              "      <script src=\"/nbextensions/google.colab/files.js\"></script> "
            ]
          },
          "metadata": {}
        },
        {
          "output_type": "stream",
          "name": "stdout",
          "text": [
            "Saving BograFlood.csv to BograFlood.csv\n"
          ]
        }
      ]
    },
    {
      "cell_type": "code",
      "source": [
        "import io\n",
        "import pandas as pd\n",
        "df = pd.read_csv(io.BytesIO(uploaded['BograFlood.csv']))"
      ],
      "metadata": {
        "id": "Vkd5PjQI5u8T"
      },
      "execution_count": 3,
      "outputs": []
    },
    {
      "cell_type": "code",
      "source": [
        "df.drop(columns='Station_Names',inplace=True)\n",
        "df.drop(columns='Station_Number',inplace=True)\n",
        "df.drop(columns='X_COR',inplace=True)\n",
        "df.drop(columns='Y_COR',inplace=True)\n",
        "df.drop(columns='LATITUDE',inplace=True)\n",
        "df.drop(columns='LONGITUDE',inplace=True)\n",
        "df.drop(columns='ALT',inplace=True)\n",
        "df['Flood?'] = df['Flood?'].fillna(0)"
      ],
      "metadata": {
        "id": "JnhQbaVt5wWk"
      },
      "execution_count": 4,
      "outputs": []
    },
    {
      "cell_type": "code",
      "source": [
        "df.head(5)"
      ],
      "metadata": {
        "colab": {
          "base_uri": "https://localhost:8080/",
          "height": 206
        },
        "id": "r6ohX6ms51kH",
        "outputId": "8ea6e1a8-8a8d-4375-83a1-d239d544e6b8"
      },
      "execution_count": 5,
      "outputs": [
        {
          "output_type": "execute_result",
          "data": {
            "text/plain": [
              "     Sl  Year  Month  Max_Temp  Min_Temp    Rainfall  Relative_Humidity  \\\n",
              "0  1356  1948      1      25.8      11.7    8.140625          74.218750   \n",
              "1  1357  1948      2      33.3      13.3   11.140625          66.531250   \n",
              "2  1358  1948      3      38.3      17.4   25.312500          61.812500   \n",
              "3  1359  1948      4      39.5      22.7   69.140625          66.203125   \n",
              "4  1360  1948      5      36.1      23.1  179.890625          76.859375   \n",
              "\n",
              "   Wind_Speed  Cloud_Coverage  Bright_Sunshine   Period  Flood?  \n",
              "0    0.875926             1.1         7.296226  1948.01     0.0  \n",
              "1    1.022222             1.9         8.267925  1948.02     0.0  \n",
              "2    1.340741             2.1         8.573585  1948.03     0.0  \n",
              "3    1.740741             3.7         8.009434  1948.04     0.0  \n",
              "4    1.781481             4.3         7.303774  1948.05     0.0  "
            ],
            "text/html": [
              "\n",
              "  <div id=\"df-89ab2aed-3712-456b-a369-83054a6149d8\">\n",
              "    <div class=\"colab-df-container\">\n",
              "      <div>\n",
              "<style scoped>\n",
              "    .dataframe tbody tr th:only-of-type {\n",
              "        vertical-align: middle;\n",
              "    }\n",
              "\n",
              "    .dataframe tbody tr th {\n",
              "        vertical-align: top;\n",
              "    }\n",
              "\n",
              "    .dataframe thead th {\n",
              "        text-align: right;\n",
              "    }\n",
              "</style>\n",
              "<table border=\"1\" class=\"dataframe\">\n",
              "  <thead>\n",
              "    <tr style=\"text-align: right;\">\n",
              "      <th></th>\n",
              "      <th>Sl</th>\n",
              "      <th>Year</th>\n",
              "      <th>Month</th>\n",
              "      <th>Max_Temp</th>\n",
              "      <th>Min_Temp</th>\n",
              "      <th>Rainfall</th>\n",
              "      <th>Relative_Humidity</th>\n",
              "      <th>Wind_Speed</th>\n",
              "      <th>Cloud_Coverage</th>\n",
              "      <th>Bright_Sunshine</th>\n",
              "      <th>Period</th>\n",
              "      <th>Flood?</th>\n",
              "    </tr>\n",
              "  </thead>\n",
              "  <tbody>\n",
              "    <tr>\n",
              "      <th>0</th>\n",
              "      <td>1356</td>\n",
              "      <td>1948</td>\n",
              "      <td>1</td>\n",
              "      <td>25.8</td>\n",
              "      <td>11.7</td>\n",
              "      <td>8.140625</td>\n",
              "      <td>74.218750</td>\n",
              "      <td>0.875926</td>\n",
              "      <td>1.1</td>\n",
              "      <td>7.296226</td>\n",
              "      <td>1948.01</td>\n",
              "      <td>0.0</td>\n",
              "    </tr>\n",
              "    <tr>\n",
              "      <th>1</th>\n",
              "      <td>1357</td>\n",
              "      <td>1948</td>\n",
              "      <td>2</td>\n",
              "      <td>33.3</td>\n",
              "      <td>13.3</td>\n",
              "      <td>11.140625</td>\n",
              "      <td>66.531250</td>\n",
              "      <td>1.022222</td>\n",
              "      <td>1.9</td>\n",
              "      <td>8.267925</td>\n",
              "      <td>1948.02</td>\n",
              "      <td>0.0</td>\n",
              "    </tr>\n",
              "    <tr>\n",
              "      <th>2</th>\n",
              "      <td>1358</td>\n",
              "      <td>1948</td>\n",
              "      <td>3</td>\n",
              "      <td>38.3</td>\n",
              "      <td>17.4</td>\n",
              "      <td>25.312500</td>\n",
              "      <td>61.812500</td>\n",
              "      <td>1.340741</td>\n",
              "      <td>2.1</td>\n",
              "      <td>8.573585</td>\n",
              "      <td>1948.03</td>\n",
              "      <td>0.0</td>\n",
              "    </tr>\n",
              "    <tr>\n",
              "      <th>3</th>\n",
              "      <td>1359</td>\n",
              "      <td>1948</td>\n",
              "      <td>4</td>\n",
              "      <td>39.5</td>\n",
              "      <td>22.7</td>\n",
              "      <td>69.140625</td>\n",
              "      <td>66.203125</td>\n",
              "      <td>1.740741</td>\n",
              "      <td>3.7</td>\n",
              "      <td>8.009434</td>\n",
              "      <td>1948.04</td>\n",
              "      <td>0.0</td>\n",
              "    </tr>\n",
              "    <tr>\n",
              "      <th>4</th>\n",
              "      <td>1360</td>\n",
              "      <td>1948</td>\n",
              "      <td>5</td>\n",
              "      <td>36.1</td>\n",
              "      <td>23.1</td>\n",
              "      <td>179.890625</td>\n",
              "      <td>76.859375</td>\n",
              "      <td>1.781481</td>\n",
              "      <td>4.3</td>\n",
              "      <td>7.303774</td>\n",
              "      <td>1948.05</td>\n",
              "      <td>0.0</td>\n",
              "    </tr>\n",
              "  </tbody>\n",
              "</table>\n",
              "</div>\n",
              "      <button class=\"colab-df-convert\" onclick=\"convertToInteractive('df-89ab2aed-3712-456b-a369-83054a6149d8')\"\n",
              "              title=\"Convert this dataframe to an interactive table.\"\n",
              "              style=\"display:none;\">\n",
              "        \n",
              "  <svg xmlns=\"http://www.w3.org/2000/svg\" height=\"24px\"viewBox=\"0 0 24 24\"\n",
              "       width=\"24px\">\n",
              "    <path d=\"M0 0h24v24H0V0z\" fill=\"none\"/>\n",
              "    <path d=\"M18.56 5.44l.94 2.06.94-2.06 2.06-.94-2.06-.94-.94-2.06-.94 2.06-2.06.94zm-11 1L8.5 8.5l.94-2.06 2.06-.94-2.06-.94L8.5 2.5l-.94 2.06-2.06.94zm10 10l.94 2.06.94-2.06 2.06-.94-2.06-.94-.94-2.06-.94 2.06-2.06.94z\"/><path d=\"M17.41 7.96l-1.37-1.37c-.4-.4-.92-.59-1.43-.59-.52 0-1.04.2-1.43.59L10.3 9.45l-7.72 7.72c-.78.78-.78 2.05 0 2.83L4 21.41c.39.39.9.59 1.41.59.51 0 1.02-.2 1.41-.59l7.78-7.78 2.81-2.81c.8-.78.8-2.07 0-2.86zM5.41 20L4 18.59l7.72-7.72 1.47 1.35L5.41 20z\"/>\n",
              "  </svg>\n",
              "      </button>\n",
              "      \n",
              "  <style>\n",
              "    .colab-df-container {\n",
              "      display:flex;\n",
              "      flex-wrap:wrap;\n",
              "      gap: 12px;\n",
              "    }\n",
              "\n",
              "    .colab-df-convert {\n",
              "      background-color: #E8F0FE;\n",
              "      border: none;\n",
              "      border-radius: 50%;\n",
              "      cursor: pointer;\n",
              "      display: none;\n",
              "      fill: #1967D2;\n",
              "      height: 32px;\n",
              "      padding: 0 0 0 0;\n",
              "      width: 32px;\n",
              "    }\n",
              "\n",
              "    .colab-df-convert:hover {\n",
              "      background-color: #E2EBFA;\n",
              "      box-shadow: 0px 1px 2px rgba(60, 64, 67, 0.3), 0px 1px 3px 1px rgba(60, 64, 67, 0.15);\n",
              "      fill: #174EA6;\n",
              "    }\n",
              "\n",
              "    [theme=dark] .colab-df-convert {\n",
              "      background-color: #3B4455;\n",
              "      fill: #D2E3FC;\n",
              "    }\n",
              "\n",
              "    [theme=dark] .colab-df-convert:hover {\n",
              "      background-color: #434B5C;\n",
              "      box-shadow: 0px 1px 3px 1px rgba(0, 0, 0, 0.15);\n",
              "      filter: drop-shadow(0px 1px 2px rgba(0, 0, 0, 0.3));\n",
              "      fill: #FFFFFF;\n",
              "    }\n",
              "  </style>\n",
              "\n",
              "      <script>\n",
              "        const buttonEl =\n",
              "          document.querySelector('#df-89ab2aed-3712-456b-a369-83054a6149d8 button.colab-df-convert');\n",
              "        buttonEl.style.display =\n",
              "          google.colab.kernel.accessAllowed ? 'block' : 'none';\n",
              "\n",
              "        async function convertToInteractive(key) {\n",
              "          const element = document.querySelector('#df-89ab2aed-3712-456b-a369-83054a6149d8');\n",
              "          const dataTable =\n",
              "            await google.colab.kernel.invokeFunction('convertToInteractive',\n",
              "                                                     [key], {});\n",
              "          if (!dataTable) return;\n",
              "\n",
              "          const docLinkHtml = 'Like what you see? Visit the ' +\n",
              "            '<a target=\"_blank\" href=https://colab.research.google.com/notebooks/data_table.ipynb>data table notebook</a>'\n",
              "            + ' to learn more about interactive tables.';\n",
              "          element.innerHTML = '';\n",
              "          dataTable['output_type'] = 'display_data';\n",
              "          await google.colab.output.renderOutput(dataTable, element);\n",
              "          const docLink = document.createElement('div');\n",
              "          docLink.innerHTML = docLinkHtml;\n",
              "          element.appendChild(docLink);\n",
              "        }\n",
              "      </script>\n",
              "    </div>\n",
              "  </div>\n",
              "  "
            ]
          },
          "metadata": {},
          "execution_count": 5
        }
      ]
    },
    {
      "cell_type": "code",
      "source": [
        "from sklearn.model_selection import train_test_split\n",
        "from keras.models import Sequential\n",
        "from keras.layers import Dense\n",
        "from keras.layers import LSTM\n",
        "import keras"
      ],
      "metadata": {
        "id": "9-iDPc_l6fei"
      },
      "execution_count": 9,
      "outputs": []
    },
    {
      "cell_type": "code",
      "source": [
        "properties = list(df.columns.values)\n",
        "properties.remove('Flood?')\n",
        "properties.remove('Sl')\n",
        "print(properties)\n",
        "X = df[properties]\n",
        "y = df['Flood?']"
      ],
      "metadata": {
        "colab": {
          "base_uri": "https://localhost:8080/"
        },
        "id": "tuZHkT9067XW",
        "outputId": "f455296e-fd2d-4d10-e991-62faaec751cf"
      },
      "execution_count": 12,
      "outputs": [
        {
          "output_type": "stream",
          "name": "stdout",
          "text": [
            "['Year', 'Month', 'Max_Temp', 'Min_Temp', 'Rainfall', 'Relative_Humidity', 'Wind_Speed', 'Cloud_Coverage', 'Bright_Sunshine', 'Period']\n"
          ]
        }
      ]
    },
    {
      "cell_type": "code",
      "source": [
        "from sklearn.model_selection import train_test_split\n",
        "X_train, X_test, y_train, y_test = train_test_split(X, y, test_size=0.3, random_state=42)"
      ],
      "metadata": {
        "id": "5jAJxAxt9ki-"
      },
      "execution_count": 13,
      "outputs": []
    },
    {
      "cell_type": "code",
      "source": [
        "model = keras.Sequential([\n",
        "    keras.layers.Flatten(input_shape=(10,)),\n",
        "    keras.layers.Dense(20, activation=tf.nn.relu),\n",
        "\t  keras.layers.Dense(20, activation=tf.nn.relu),\n",
        "    keras.layers.Dense(1, activation=tf.nn.sigmoid),\n",
        "])"
      ],
      "metadata": {
        "id": "p2VI0qe19o8Q"
      },
      "execution_count": 14,
      "outputs": []
    },
    {
      "cell_type": "code",
      "source": [
        "model.compile(optimizer='adam',\n",
        "              loss='binary_crossentropy',\n",
        "              metrics=['accuracy'])\n",
        "\n",
        "hist = model.fit(X_train, y_train, validation_data=(X_test, y_test), epochs=100, batch_size=10)\n",
        "test_loss, test_acc = model.evaluate(X_test, y_test)"
      ],
      "metadata": {
        "colab": {
          "base_uri": "https://localhost:8080/"
        },
        "id": "I8oJzNDb9vjS",
        "outputId": "d2f6076d-06a7-4af5-95d7-1f0c6c154616"
      },
      "execution_count": 19,
      "outputs": [
        {
          "output_type": "stream",
          "name": "stdout",
          "text": [
            "Epoch 1/100\n",
            "56/56 [==============================] - 1s 6ms/step - loss: 0.0752 - accuracy: 0.9747 - val_loss: 0.0509 - val_accuracy: 0.9706\n",
            "Epoch 2/100\n",
            "56/56 [==============================] - 0s 3ms/step - loss: 0.0759 - accuracy: 0.9711 - val_loss: 0.0477 - val_accuracy: 0.9790\n",
            "Epoch 3/100\n",
            "56/56 [==============================] - 0s 4ms/step - loss: 0.1102 - accuracy: 0.9693 - val_loss: 0.0784 - val_accuracy: 0.9580\n",
            "Epoch 4/100\n",
            "56/56 [==============================] - 0s 3ms/step - loss: 0.1154 - accuracy: 0.9675 - val_loss: 0.0537 - val_accuracy: 0.9664\n",
            "Epoch 5/100\n",
            "56/56 [==============================] - 0s 4ms/step - loss: 0.0855 - accuracy: 0.9675 - val_loss: 0.0553 - val_accuracy: 0.9748\n",
            "Epoch 6/100\n",
            "56/56 [==============================] - 0s 3ms/step - loss: 0.0686 - accuracy: 0.9783 - val_loss: 0.0501 - val_accuracy: 0.9790\n",
            "Epoch 7/100\n",
            "56/56 [==============================] - 0s 3ms/step - loss: 0.0670 - accuracy: 0.9801 - val_loss: 0.0498 - val_accuracy: 0.9790\n",
            "Epoch 8/100\n",
            "56/56 [==============================] - 0s 3ms/step - loss: 0.0627 - accuracy: 0.9801 - val_loss: 0.0514 - val_accuracy: 0.9790\n",
            "Epoch 9/100\n",
            "56/56 [==============================] - 0s 4ms/step - loss: 0.0612 - accuracy: 0.9801 - val_loss: 0.0518 - val_accuracy: 0.9706\n",
            "Epoch 10/100\n",
            "56/56 [==============================] - 0s 3ms/step - loss: 0.0634 - accuracy: 0.9783 - val_loss: 0.0529 - val_accuracy: 0.9706\n",
            "Epoch 11/100\n",
            "56/56 [==============================] - 0s 4ms/step - loss: 0.0635 - accuracy: 0.9729 - val_loss: 0.0509 - val_accuracy: 0.9790\n",
            "Epoch 12/100\n",
            "56/56 [==============================] - 0s 3ms/step - loss: 0.0667 - accuracy: 0.9783 - val_loss: 0.0503 - val_accuracy: 0.9790\n",
            "Epoch 13/100\n",
            "56/56 [==============================] - 0s 3ms/step - loss: 0.0616 - accuracy: 0.9783 - val_loss: 0.0472 - val_accuracy: 0.9790\n",
            "Epoch 14/100\n",
            "56/56 [==============================] - 0s 3ms/step - loss: 0.0703 - accuracy: 0.9747 - val_loss: 0.0608 - val_accuracy: 0.9748\n",
            "Epoch 15/100\n",
            "56/56 [==============================] - 0s 4ms/step - loss: 0.0703 - accuracy: 0.9819 - val_loss: 0.0601 - val_accuracy: 0.9706\n",
            "Epoch 16/100\n",
            "56/56 [==============================] - 0s 3ms/step - loss: 0.0596 - accuracy: 0.9783 - val_loss: 0.0541 - val_accuracy: 0.9748\n",
            "Epoch 17/100\n",
            "56/56 [==============================] - 0s 4ms/step - loss: 0.0657 - accuracy: 0.9801 - val_loss: 0.0471 - val_accuracy: 0.9790\n",
            "Epoch 18/100\n",
            "56/56 [==============================] - 0s 3ms/step - loss: 0.0699 - accuracy: 0.9765 - val_loss: 0.0507 - val_accuracy: 0.9790\n",
            "Epoch 19/100\n",
            "56/56 [==============================] - 0s 3ms/step - loss: 0.0648 - accuracy: 0.9765 - val_loss: 0.0577 - val_accuracy: 0.9706\n",
            "Epoch 20/100\n",
            "56/56 [==============================] - 0s 4ms/step - loss: 0.0662 - accuracy: 0.9747 - val_loss: 0.0510 - val_accuracy: 0.9706\n",
            "Epoch 21/100\n",
            "56/56 [==============================] - 0s 4ms/step - loss: 0.0658 - accuracy: 0.9747 - val_loss: 0.0655 - val_accuracy: 0.9664\n",
            "Epoch 22/100\n",
            "56/56 [==============================] - 0s 3ms/step - loss: 0.0788 - accuracy: 0.9639 - val_loss: 0.0534 - val_accuracy: 0.9748\n",
            "Epoch 23/100\n",
            "56/56 [==============================] - 0s 3ms/step - loss: 0.0619 - accuracy: 0.9783 - val_loss: 0.0685 - val_accuracy: 0.9664\n",
            "Epoch 24/100\n",
            "56/56 [==============================] - 0s 4ms/step - loss: 0.0654 - accuracy: 0.9801 - val_loss: 0.0511 - val_accuracy: 0.9790\n",
            "Epoch 25/100\n",
            "56/56 [==============================] - 0s 4ms/step - loss: 0.0650 - accuracy: 0.9783 - val_loss: 0.0591 - val_accuracy: 0.9706\n",
            "Epoch 26/100\n",
            "56/56 [==============================] - 0s 4ms/step - loss: 0.0694 - accuracy: 0.9693 - val_loss: 0.0494 - val_accuracy: 0.9790\n",
            "Epoch 27/100\n",
            "56/56 [==============================] - 0s 3ms/step - loss: 0.0612 - accuracy: 0.9838 - val_loss: 0.0585 - val_accuracy: 0.9706\n",
            "Epoch 28/100\n",
            "56/56 [==============================] - 0s 3ms/step - loss: 0.0728 - accuracy: 0.9675 - val_loss: 0.0629 - val_accuracy: 0.9664\n",
            "Epoch 29/100\n",
            "56/56 [==============================] - 0s 3ms/step - loss: 0.0708 - accuracy: 0.9729 - val_loss: 0.0490 - val_accuracy: 0.9790\n",
            "Epoch 30/100\n",
            "56/56 [==============================] - 0s 4ms/step - loss: 0.0650 - accuracy: 0.9783 - val_loss: 0.0522 - val_accuracy: 0.9748\n",
            "Epoch 31/100\n",
            "56/56 [==============================] - 0s 3ms/step - loss: 0.0628 - accuracy: 0.9801 - val_loss: 0.0515 - val_accuracy: 0.9790\n",
            "Epoch 32/100\n",
            "56/56 [==============================] - 0s 3ms/step - loss: 0.0642 - accuracy: 0.9765 - val_loss: 0.0578 - val_accuracy: 0.9790\n",
            "Epoch 33/100\n",
            "56/56 [==============================] - 0s 3ms/step - loss: 0.0638 - accuracy: 0.9801 - val_loss: 0.0493 - val_accuracy: 0.9790\n",
            "Epoch 34/100\n",
            "56/56 [==============================] - 0s 4ms/step - loss: 0.0658 - accuracy: 0.9747 - val_loss: 0.0502 - val_accuracy: 0.9790\n",
            "Epoch 35/100\n",
            "56/56 [==============================] - 0s 4ms/step - loss: 0.0640 - accuracy: 0.9765 - val_loss: 0.0511 - val_accuracy: 0.9748\n",
            "Epoch 36/100\n",
            "56/56 [==============================] - 0s 3ms/step - loss: 0.0632 - accuracy: 0.9801 - val_loss: 0.0537 - val_accuracy: 0.9706\n",
            "Epoch 37/100\n",
            "56/56 [==============================] - 0s 3ms/step - loss: 0.0686 - accuracy: 0.9729 - val_loss: 0.0531 - val_accuracy: 0.9706\n",
            "Epoch 38/100\n",
            "56/56 [==============================] - 0s 3ms/step - loss: 0.0728 - accuracy: 0.9729 - val_loss: 0.0526 - val_accuracy: 0.9748\n",
            "Epoch 39/100\n",
            "56/56 [==============================] - 0s 3ms/step - loss: 0.0658 - accuracy: 0.9747 - val_loss: 0.0695 - val_accuracy: 0.9622\n",
            "Epoch 40/100\n",
            "56/56 [==============================] - 0s 4ms/step - loss: 0.0643 - accuracy: 0.9801 - val_loss: 0.0503 - val_accuracy: 0.9706\n",
            "Epoch 41/100\n",
            "56/56 [==============================] - 0s 3ms/step - loss: 0.0695 - accuracy: 0.9657 - val_loss: 0.0474 - val_accuracy: 0.9790\n",
            "Epoch 42/100\n",
            "56/56 [==============================] - 0s 4ms/step - loss: 0.0707 - accuracy: 0.9675 - val_loss: 0.0549 - val_accuracy: 0.9748\n",
            "Epoch 43/100\n",
            "56/56 [==============================] - 0s 4ms/step - loss: 0.0677 - accuracy: 0.9729 - val_loss: 0.0557 - val_accuracy: 0.9748\n",
            "Epoch 44/100\n",
            "56/56 [==============================] - 0s 4ms/step - loss: 0.0706 - accuracy: 0.9747 - val_loss: 0.0572 - val_accuracy: 0.9706\n",
            "Epoch 45/100\n",
            "56/56 [==============================] - 0s 3ms/step - loss: 0.0731 - accuracy: 0.9693 - val_loss: 0.0779 - val_accuracy: 0.9706\n",
            "Epoch 46/100\n",
            "56/56 [==============================] - 0s 3ms/step - loss: 0.0695 - accuracy: 0.9747 - val_loss: 0.0599 - val_accuracy: 0.9748\n",
            "Epoch 47/100\n",
            "56/56 [==============================] - 0s 3ms/step - loss: 0.0710 - accuracy: 0.9711 - val_loss: 0.0510 - val_accuracy: 0.9790\n",
            "Epoch 48/100\n",
            "56/56 [==============================] - 0s 4ms/step - loss: 0.0630 - accuracy: 0.9783 - val_loss: 0.0557 - val_accuracy: 0.9748\n",
            "Epoch 49/100\n",
            "56/56 [==============================] - 0s 3ms/step - loss: 0.0688 - accuracy: 0.9783 - val_loss: 0.0614 - val_accuracy: 0.9664\n",
            "Epoch 50/100\n",
            "56/56 [==============================] - 0s 4ms/step - loss: 0.0660 - accuracy: 0.9729 - val_loss: 0.0556 - val_accuracy: 0.9748\n",
            "Epoch 51/100\n",
            "56/56 [==============================] - 0s 3ms/step - loss: 0.0693 - accuracy: 0.9801 - val_loss: 0.0523 - val_accuracy: 0.9790\n",
            "Epoch 52/100\n",
            "56/56 [==============================] - 0s 3ms/step - loss: 0.0637 - accuracy: 0.9765 - val_loss: 0.0598 - val_accuracy: 0.9748\n",
            "Epoch 53/100\n",
            "56/56 [==============================] - 0s 3ms/step - loss: 0.0649 - accuracy: 0.9801 - val_loss: 0.0711 - val_accuracy: 0.9664\n",
            "Epoch 54/100\n",
            "56/56 [==============================] - 0s 3ms/step - loss: 0.0718 - accuracy: 0.9765 - val_loss: 0.0558 - val_accuracy: 0.9790\n",
            "Epoch 55/100\n",
            "56/56 [==============================] - 0s 3ms/step - loss: 0.0664 - accuracy: 0.9783 - val_loss: 0.0518 - val_accuracy: 0.9790\n",
            "Epoch 56/100\n",
            "56/56 [==============================] - 0s 3ms/step - loss: 0.0620 - accuracy: 0.9783 - val_loss: 0.0587 - val_accuracy: 0.9706\n",
            "Epoch 57/100\n",
            "56/56 [==============================] - 0s 4ms/step - loss: 0.0699 - accuracy: 0.9747 - val_loss: 0.0556 - val_accuracy: 0.9706\n",
            "Epoch 58/100\n",
            "56/56 [==============================] - 0s 4ms/step - loss: 0.0632 - accuracy: 0.9801 - val_loss: 0.0506 - val_accuracy: 0.9790\n",
            "Epoch 59/100\n",
            "56/56 [==============================] - 0s 4ms/step - loss: 0.0676 - accuracy: 0.9693 - val_loss: 0.0571 - val_accuracy: 0.9748\n",
            "Epoch 60/100\n",
            "56/56 [==============================] - 0s 4ms/step - loss: 0.0645 - accuracy: 0.9747 - val_loss: 0.0548 - val_accuracy: 0.9790\n",
            "Epoch 61/100\n",
            "56/56 [==============================] - 0s 3ms/step - loss: 0.0671 - accuracy: 0.9747 - val_loss: 0.0593 - val_accuracy: 0.9706\n",
            "Epoch 62/100\n",
            "56/56 [==============================] - 0s 4ms/step - loss: 0.0640 - accuracy: 0.9783 - val_loss: 0.0560 - val_accuracy: 0.9748\n",
            "Epoch 63/100\n",
            "56/56 [==============================] - 0s 4ms/step - loss: 0.0672 - accuracy: 0.9783 - val_loss: 0.0536 - val_accuracy: 0.9748\n",
            "Epoch 64/100\n",
            "56/56 [==============================] - 0s 3ms/step - loss: 0.0654 - accuracy: 0.9783 - val_loss: 0.0520 - val_accuracy: 0.9790\n",
            "Epoch 65/100\n",
            "56/56 [==============================] - 0s 3ms/step - loss: 0.0666 - accuracy: 0.9783 - val_loss: 0.0533 - val_accuracy: 0.9706\n",
            "Epoch 66/100\n",
            "56/56 [==============================] - 0s 4ms/step - loss: 0.0632 - accuracy: 0.9801 - val_loss: 0.0598 - val_accuracy: 0.9748\n",
            "Epoch 67/100\n",
            "56/56 [==============================] - 0s 3ms/step - loss: 0.0613 - accuracy: 0.9765 - val_loss: 0.0494 - val_accuracy: 0.9790\n",
            "Epoch 68/100\n",
            "56/56 [==============================] - 0s 3ms/step - loss: 0.0736 - accuracy: 0.9747 - val_loss: 0.0515 - val_accuracy: 0.9748\n",
            "Epoch 69/100\n",
            "56/56 [==============================] - 0s 3ms/step - loss: 0.0623 - accuracy: 0.9783 - val_loss: 0.0520 - val_accuracy: 0.9790\n",
            "Epoch 70/100\n",
            "56/56 [==============================] - 0s 3ms/step - loss: 0.0588 - accuracy: 0.9801 - val_loss: 0.0533 - val_accuracy: 0.9748\n",
            "Epoch 71/100\n",
            "56/56 [==============================] - 0s 3ms/step - loss: 0.0777 - accuracy: 0.9693 - val_loss: 0.0547 - val_accuracy: 0.9790\n",
            "Epoch 72/100\n",
            "56/56 [==============================] - 0s 3ms/step - loss: 0.0598 - accuracy: 0.9783 - val_loss: 0.0510 - val_accuracy: 0.9790\n",
            "Epoch 73/100\n",
            "56/56 [==============================] - 0s 3ms/step - loss: 0.0608 - accuracy: 0.9801 - val_loss: 0.0516 - val_accuracy: 0.9706\n",
            "Epoch 74/100\n",
            "56/56 [==============================] - 0s 3ms/step - loss: 0.0665 - accuracy: 0.9729 - val_loss: 0.0503 - val_accuracy: 0.9790\n",
            "Epoch 75/100\n",
            "56/56 [==============================] - 0s 3ms/step - loss: 0.0700 - accuracy: 0.9729 - val_loss: 0.0540 - val_accuracy: 0.9706\n",
            "Epoch 76/100\n",
            "56/56 [==============================] - 0s 3ms/step - loss: 0.0629 - accuracy: 0.9747 - val_loss: 0.0698 - val_accuracy: 0.9622\n",
            "Epoch 77/100\n",
            "56/56 [==============================] - 0s 3ms/step - loss: 0.0759 - accuracy: 0.9711 - val_loss: 0.0827 - val_accuracy: 0.9664\n",
            "Epoch 78/100\n",
            "56/56 [==============================] - 0s 3ms/step - loss: 0.0698 - accuracy: 0.9765 - val_loss: 0.0606 - val_accuracy: 0.9748\n",
            "Epoch 79/100\n",
            "56/56 [==============================] - 0s 3ms/step - loss: 0.0779 - accuracy: 0.9747 - val_loss: 0.0601 - val_accuracy: 0.9790\n",
            "Epoch 80/100\n",
            "56/56 [==============================] - 0s 3ms/step - loss: 0.0688 - accuracy: 0.9747 - val_loss: 0.0538 - val_accuracy: 0.9706\n",
            "Epoch 81/100\n",
            "56/56 [==============================] - 0s 4ms/step - loss: 0.0654 - accuracy: 0.9765 - val_loss: 0.0578 - val_accuracy: 0.9706\n",
            "Epoch 82/100\n",
            "56/56 [==============================] - 0s 4ms/step - loss: 0.0645 - accuracy: 0.9765 - val_loss: 0.0599 - val_accuracy: 0.9706\n",
            "Epoch 83/100\n",
            "56/56 [==============================] - 0s 3ms/step - loss: 0.0633 - accuracy: 0.9783 - val_loss: 0.0508 - val_accuracy: 0.9790\n",
            "Epoch 84/100\n",
            "56/56 [==============================] - 0s 4ms/step - loss: 0.0623 - accuracy: 0.9819 - val_loss: 0.0516 - val_accuracy: 0.9706\n",
            "Epoch 85/100\n",
            "56/56 [==============================] - 0s 3ms/step - loss: 0.0654 - accuracy: 0.9783 - val_loss: 0.0515 - val_accuracy: 0.9706\n",
            "Epoch 86/100\n",
            "56/56 [==============================] - 0s 4ms/step - loss: 0.0659 - accuracy: 0.9765 - val_loss: 0.0554 - val_accuracy: 0.9706\n",
            "Epoch 87/100\n",
            "56/56 [==============================] - 0s 4ms/step - loss: 0.0697 - accuracy: 0.9747 - val_loss: 0.0531 - val_accuracy: 0.9790\n",
            "Epoch 88/100\n",
            "56/56 [==============================] - 0s 3ms/step - loss: 0.0704 - accuracy: 0.9765 - val_loss: 0.0511 - val_accuracy: 0.9790\n",
            "Epoch 89/100\n",
            "56/56 [==============================] - 0s 4ms/step - loss: 0.0662 - accuracy: 0.9747 - val_loss: 0.0523 - val_accuracy: 0.9748\n",
            "Epoch 90/100\n",
            "56/56 [==============================] - 0s 3ms/step - loss: 0.0658 - accuracy: 0.9783 - val_loss: 0.0517 - val_accuracy: 0.9790\n",
            "Epoch 91/100\n",
            "56/56 [==============================] - 0s 3ms/step - loss: 0.0689 - accuracy: 0.9711 - val_loss: 0.0505 - val_accuracy: 0.9748\n",
            "Epoch 92/100\n",
            "56/56 [==============================] - 0s 4ms/step - loss: 0.0698 - accuracy: 0.9747 - val_loss: 0.0510 - val_accuracy: 0.9790\n",
            "Epoch 93/100\n",
            "56/56 [==============================] - 0s 3ms/step - loss: 0.0681 - accuracy: 0.9783 - val_loss: 0.0647 - val_accuracy: 0.9664\n",
            "Epoch 94/100\n",
            "56/56 [==============================] - 0s 4ms/step - loss: 0.0672 - accuracy: 0.9765 - val_loss: 0.0518 - val_accuracy: 0.9790\n",
            "Epoch 95/100\n",
            "56/56 [==============================] - 0s 4ms/step - loss: 0.0676 - accuracy: 0.9693 - val_loss: 0.0505 - val_accuracy: 0.9790\n",
            "Epoch 96/100\n",
            "56/56 [==============================] - 0s 3ms/step - loss: 0.0615 - accuracy: 0.9801 - val_loss: 0.0499 - val_accuracy: 0.9706\n",
            "Epoch 97/100\n",
            "56/56 [==============================] - 0s 3ms/step - loss: 0.0642 - accuracy: 0.9801 - val_loss: 0.0538 - val_accuracy: 0.9706\n",
            "Epoch 98/100\n",
            "56/56 [==============================] - 0s 4ms/step - loss: 0.0667 - accuracy: 0.9711 - val_loss: 0.0558 - val_accuracy: 0.9706\n",
            "Epoch 99/100\n",
            "56/56 [==============================] - 0s 4ms/step - loss: 0.0630 - accuracy: 0.9783 - val_loss: 0.0526 - val_accuracy: 0.9748\n",
            "Epoch 100/100\n",
            "56/56 [==============================] - 0s 4ms/step - loss: 0.0654 - accuracy: 0.9801 - val_loss: 0.0830 - val_accuracy: 0.9580\n",
            "8/8 [==============================] - 0s 2ms/step - loss: 0.0830 - accuracy: 0.9580\n"
          ]
        }
      ]
    },
    {
      "cell_type": "code",
      "source": [
        "import matplotlib.pyplot as plt\n",
        "%matplotlib inline\n",
        "import seaborn as sns\n",
        "sns.set()\n",
        " \n",
        "acc = hist.history['accuracy']\n",
        "val = hist.history['val_accuracy']\n",
        "epochs = range(1, len(acc) + 1)\n",
        " \n",
        "plt.plot(epochs, acc, '-', label='Training accuracy')\n",
        "plt.plot(epochs, val, ':', label='Validation accuracy')\n",
        "plt.title('Training and Validation Accuracy')\n",
        "plt.xlabel('Epoch')\n",
        "plt.ylabel('Accuracy')\n",
        "plt.legend(loc='lower right')\n",
        "plt.plot()"
      ],
      "metadata": {
        "colab": {
          "base_uri": "https://localhost:8080/",
          "height": 318
        },
        "id": "QH2CKsEY-RVL",
        "outputId": "eb01b1bc-9d11-4340-bf8a-f8c3f4bd6755"
      },
      "execution_count": 20,
      "outputs": [
        {
          "output_type": "execute_result",
          "data": {
            "text/plain": [
              "[]"
            ]
          },
          "metadata": {},
          "execution_count": 20
        },
        {
          "output_type": "display_data",
          "data": {
            "text/plain": [
              "<Figure size 432x288 with 1 Axes>"
            ],
            "image/png": "[encoded data removed]"
          },
          "metadata": {}
        }
      ]
    },
    {
      "cell_type": "code",
      "source": [
        "from sklearn.metrics import confusion_matrix\n",
        " \n",
        "y_predicted = model.predict(X_test) > 0.5\n",
        "mat = confusion_matrix(y_test, y_predicted)\n",
        "labels = ['No Flood', 'Flood']\n",
        " \n",
        "sns.heatmap(mat, square=True, annot=True, fmt='d', cbar=False, cmap='Blues',\n",
        "            xticklabels=labels, yticklabels=labels)\n",
        " \n",
        "plt.xlabel('Predicted label')\n",
        "plt.ylabel('Actual label')"
      ],
      "metadata": {
        "colab": {
          "base_uri": "https://localhost:8080/",
          "height": 302
        },
        "id": "WyI3Yfzn_qpt",
        "outputId": "3e5e943e-224c-4055-ddd5-579b1f80cdda"
      },
      "execution_count": 21,
      "outputs": [
        {
          "output_type": "execute_result",
          "data": {
            "text/plain": [
              "Text(89.18, 0.5, 'Actual label')"
            ]
          },
          "metadata": {},
          "execution_count": 21
        },
        {
          "output_type": "display_data",
          "data": {
            "text/plain": [
              "<Figure size 432x288 with 1 Axes>"
            ],
            "image/png": "[encoded data removed]"
          },
          "metadata": {}
        }
      ]
    },
    {
      "cell_type": "code",
      "source": [
        "from sklearn.metrics import plot_confusion_matrix\n",
        "from sklearn.metrics import confusion_matrix, classification_report"
      ],
      "metadata": {
        "id": "NksbV3JuAwzF"
      },
      "execution_count": 22,
      "outputs": []
    },
    {
      "cell_type": "code",
      "source": [
        "print(classification_report(y_test, y_predicted, target_names=labels))"
      ],
      "metadata": {
        "colab": {
          "base_uri": "https://localhost:8080/"
        },
        "id": "Q-FKYggpAvk1",
        "outputId": "4eda434b-5ab9-4a8d-927f-f5174abd4d21"
      },
      "execution_count": 23,
      "outputs": [
        {
          "output_type": "stream",
          "name": "stdout",
          "text": [
            "              precision    recall  f1-score   support\n",
            "\n",
            "    No Flood       1.00      0.95      0.98       207\n",
            "       Flood       0.76      1.00      0.86        31\n",
            "\n",
            "    accuracy                           0.96       238\n",
            "   macro avg       0.88      0.98      0.92       238\n",
            "weighted avg       0.97      0.96      0.96       238\n",
            "\n"
          ]
        }
      ]
    }
  ]
}